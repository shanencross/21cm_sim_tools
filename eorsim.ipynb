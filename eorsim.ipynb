{
 "metadata": {
  "name": "",
  "signature": "sha256:51da3c18992fb83fed038ca56701c1358a872287c18658759b7e01dfd212ab34"
 },
 "nbformat": 3,
 "nbformat_minor": 0,
 "worksheets": [
  {
   "cells": [
    {
     "cell_type": "code",
     "collapsed": false,
     "input": [
      "cd /home/shanen/Documents/Programming/21cm_sim_tools"
     ],
     "language": "python",
     "metadata": {},
     "outputs": [
      {
       "output_type": "stream",
       "stream": "stdout",
       "text": [
        "/home/shanen/Documents/Programming/21cm_sim_tools\n"
       ]
      }
     ],
     "prompt_number": 1
    },
    {
     "cell_type": "code",
     "collapsed": false,
     "input": [
      "\n",
      "#import needed modules\n",
      "import numpy as np\n",
      "import pyfits as pyfits\n",
      "import ephem \n",
      "from glob import glob\n",
      "from matplotlib import mlab\n",
      "import time\n",
      "import copy\n",
      "import quaternion as quat\n",
      "import healpy as hp\n",
      "import numexpr\n",
      "import pylab as pl\n",
      "import scipy.interpolate as sp\n",
      "import simtools as st\n",
      "\n",
      "import matplotlib.pyplot as plt #added to make pcolormesh work\n",
      "\n",
      "#apparently, this makes it so that writing function_name is the same as writing function_name() \n",
      "#and that writing function_name parameter is the same as writing function_name(parameter)\n",
      "%autocall 2\n",
      "#from simtools import gencomponents"
     ],
     "language": "python",
     "metadata": {},
     "outputs": [
      {
       "output_type": "stream",
       "stream": "stdout",
       "text": [
        "Automatic calling is: Full\n"
       ]
      }
     ],
     "prompt_number": 2
    },
    {
     "cell_type": "code",
     "collapsed": false,
     "input": [
      "#reloads and reexcutes code for simtools\n",
      "#...but no changes have been made to simtools since import, so possibly redundant?\n",
      "reload(st)"
     ],
     "language": "python",
     "metadata": {},
     "outputs": [
      {
       "metadata": {},
       "output_type": "pyout",
       "prompt_number": 3,
       "text": [
        "<module 'simtools' from 'simtools.pyc'>"
       ]
      }
     ],
     "prompt_number": 3
    },
    {
     "cell_type": "code",
     "collapsed": false,
     "input": [
      "#define a bunch of values for \"constants\"\n",
      "\n",
      "#don't know what this is - unused so far\n",
      "second_jul = 0.1 / 8640 \n",
      "# pi\n",
      "pi = np.pi \n",
      "# factor for converting from radians to degrees - unused so far\n",
      "rtd=180/np.pi\n",
      "# factor for converting form degrees to radians - unused so far\n",
      "dtr=np.pi/180\n",
      "# lower bound of frequences used in eorfreq array - used\n",
      "lowfreq=259\n",
      "# upper bound of frequencies used in eorfreq array - used\n",
      "hifreq=261 \n",
      "# interval between freq elements in eorfreq array - used\n",
      "stepfreq=1 \n",
      "# some sort of lower frequency bound to which freqs in eorfreq array are compared - used\n",
      "ri_start=150\n",
      "# some sort of upper frequency bound to which freqs in eorfreq array are compared - used\n",
      "ri_stop=160 \n",
      "# don't now what this is - used\n",
      "fixed_az=60. #degrees\n",
      "# don't know what this is, some lower degree bound - used\n",
      "min_el=-60. #degrees \n",
      "# don't know what this is, some upper degree bound - used\n",
      "max_el=60.  #degrees \n",
      "# the difference between max_el and min_el converted into an integral - used\n",
      "# presumably the length for some sort of array which will contain values from min_el to max_el?\n",
      "datalen=np.int(max_el-min_el) #just use integral number of degrees, 1 per step, for now'''\n",
      "# upper bound of times used in eortime array\n",
      "time_start = 0\n",
      "# lower bound of times used in eortime array\n",
      "time_end = 3\n",
      "#interval between time elements in eortime array\n",
      "time_step = 1"
     ],
     "language": "python",
     "metadata": {},
     "outputs": [],
     "prompt_number": 4
    },
    {
     "cell_type": "code",
     "collapsed": false,
     "input": [
      "# length of eorsig array - difference of hifreq and lowfreq, divided by freq interval length, converted into int - used\n",
      "speclen = np.int((hifreq-lowfreq)/stepfreq)\n",
      "#generates the number of points used\n",
      "\n",
      "# creates eorsig array filled with 0s of length \"speclen\"\n",
      "eorsig = np.zeros(speclen)\n",
      "#generates array width\n",
      "\n",
      "# creates eorfreq array with freq values ranging from lowfreq to hifreq in intervals of stepfrq\n",
      "eorfreq = np.arange(lowfreq,hifreq,stepfreq)\n",
      "#Generates array of different frequencies in range defined by user\n",
      "\n",
      "# creates eortime array with time values ranging from time_start to time_end in intervals of time_step\n",
      "eortime = np.arange(time_start,time_end,time_step)\n",
      "#Generates array of different UT times in range defined by user"
     ],
     "language": "python",
     "metadata": {},
     "outputs": [],
     "prompt_number": 5
    },
    {
     "cell_type": "code",
     "collapsed": false,
     "input": [
      "\n",
      "#iterates trough each freq in eorfreq\n",
      "'''for f in eorfreq:\n",
      "    #checks if each freq is in between ri_start and ri_end\n",
      "    #if so, does nothing\n",
      "    #if not...\n",
      "\n",
      "    #if the freq is less at or below the lower bound of the \"ri\" range,\n",
      "    # fill the nth value of eorsig with 0.15, \n",
      "    # where we are currently looking at the nth freq in eorfreq\n",
      "    if f<=ri_start:\n",
      "        eorsig[f==eorfreq]=.15\n",
      "        \n",
      "    #if the freq is above the \"ri\" range,\n",
      "    # fill the nth value of erosig with 0.15*(1-num),\n",
      "    # where num is the ratio of the difference between the current freq and ri_start\n",
      "    # and the difference between the min and max of the ri range\n",
      "    # where we are currently looking at the nth freq in eorfreq\n",
      "    if f>ri_start:\n",
      "        if f< ri_stop:\n",
      "            eorsig[f==eorfreq]=.15-.15*(f-ri_start)/(ri_stop-ri_start)'''\n",
      "\n",
      "#Adds a simulated 21cm signal to the maps so as to better model real life\n",
      "#How is this a simulated 21cm signal...?!"
     ],
     "language": "python",
     "metadata": {},
     "outputs": [
      {
       "metadata": {},
       "output_type": "pyout",
       "prompt_number": 6,
       "text": [
        "'for f in eorfreq:\\n    #checks if each freq is in between ri_start and ri_end\\n    #if so, does nothing\\n    #if not...\\n\\n    #if the freq is less at or below the lower bound of the \"ri\" range,\\n    # fill the nth value of eorsig with 0.15, \\n    # where we are currently looking at the nth freq in eorfreq\\n    if f<=ri_start:\\n        eorsig[f==eorfreq]=.15\\n        \\n    #if the freq is above the \"ri\" range,\\n    # fill the nth value of erosig with 0.15*(1-num),\\n    # where num is the ratio of the difference between the current freq and ri_start\\n    # and the difference between the min and max of the ri range\\n    # where we are currently looking at the nth freq in eorfreq\\n    if f>ri_start:\\n        if f< ri_stop:\\n            eorsig[f==eorfreq]=.15-.15*(f-ri_start)/(ri_stop-ri_start)'"
       ]
      }
     ],
     "prompt_number": 6
    },
    {
     "cell_type": "code",
     "collapsed": false,
     "input": [
      "#principle components analysis\n",
      "#hmap408: hazlam map\n",
      "#get these values from gencomponents function...\n",
      "#\n",
      "cp1,cp2,cp3,cp4,hmap408 = st.gencomponents()"
     ],
     "language": "python",
     "metadata": {},
     "outputs": [],
     "prompt_number": 7
    },
    {
     "cell_type": "code",
     "collapsed": false,
     "input": [
      "print \"cp1:\", cp1 #Added for TestC\n",
      "print \"cp2:\", cp2\n",
      "print \"cp3:\", cp3\n",
      "print \"cp4\", cp4\n",
      "print \"hmap408:\", hmap408"
     ],
     "language": "python",
     "metadata": {},
     "outputs": [
      {
       "output_type": "stream",
       "stream": "stdout",
       "text": [
        "cp1: <scipy.interpolate.fitpack2.UnivariateSpline object at 0x7fd5143cf390>\n",
        "cp2: <scipy.interpolate.fitpack2.UnivariateSpline object at 0x7fd514480c10>\n",
        "cp3: <scipy.interpolate.fitpack2.UnivariateSpline object at 0x7fd514480950>\n",
        "cp4 <scipy.interpolate.fitpack2.UnivariateSpline object at 0x7fd514533510>\n",
        "hmap408: [[ 0.278199 -0.201464 -0.009038]\n",
        " [ 0.270409 -0.195864 -0.008781]\n",
        " [ 0.25945  -0.187583 -0.008195]\n",
        " ..., \n",
        " [ 0.234598 -0.154753 -0.003999]\n",
        " [ 0.24072  -0.15894  -0.004075]\n",
        " [ 0.235899 -0.155878 -0.00392 ]]\n"
       ]
      }
     ],
     "prompt_number": 8
    },
    {
     "cell_type": "code",
     "collapsed": false,
     "input": [
      "manymaps32=[]\n",
      "#nside = 32\n",
      "#fills manymaps32 with 32bit per pixel maps at each defined frequency\n",
      "for i,freq in enumerate(eorfreq):\n",
      "    #manymaps32.append(makemap(freq))\n",
      "    manymaps32.append(st.makemap(freq,cp1,cp2,cp3,cp4,hmap408)+eorsig[i])\n",
      "    #manymaps32.append(makemap(freq, nside=nside))"
     ],
     "language": "python",
     "metadata": {},
     "outputs": [],
     "prompt_number": 9
    },
    {
     "cell_type": "code",
     "collapsed": false,
     "input": [
      "print manymaps32 #same as TestA-B"
     ],
     "language": "python",
     "metadata": {},
     "outputs": [
      {
       "output_type": "stream",
       "stream": "stdout",
       "text": [
        "[array([ 11.51125829,  11.18979272,  10.72943387, ...,   9.39584278,\n",
        "         9.64417338,   9.45365029]), array([ 11.39583799,  11.07759565,  10.62185546, ...,   9.30169242,\n",
        "         9.54753466,   9.35892119])]\n"
       ]
      }
     ],
     "prompt_number": 10
    },
    {
     "cell_type": "code",
     "collapsed": false,
     "input": [
      "#def timemaps(maps,fwhm_degrees, eortime):\n",
      "#    timemaps=[]\n",
      "#    for index in range(len(eortime)):\n",
      "#        #galactic to equitorial coordinates\n",
      "#        testmap=st.galmap2eqmap(maps) \n",
      "#        #equitorial to azimuthal coordinates\n",
      "#        testmap=st.eqmap2azelmap(testmap,ut=eortime[index])\n",
      "#        #ask what replace_with_earth does\n",
      "#        testmap=st.replace_with_earth(testmap) # none-smooth\n",
      "#        timemaps.append(hp.smoothing(testmap,np.radians(fwhm_degrees),regression=False ))\n",
      "#    return testmap"
     ],
     "language": "python",
     "metadata": {},
     "outputs": [],
     "prompt_number": 11
    },
    {
     "cell_type": "code",
     "collapsed": false,
     "input": [
      "maps = {}\n",
      "mapzenith = {}"
     ],
     "language": "python",
     "metadata": {},
     "outputs": [],
     "prompt_number": 12
    },
    {
     "cell_type": "code",
     "collapsed": false,
     "input": [
      "fwhm = 120\n",
      "#added for debug:\n",
      "#print eorfreq\n",
      "#print len(eorfreq)\n",
      "#print len(manymaps32)"
     ],
     "language": "python",
     "metadata": {},
     "outputs": [],
     "prompt_number": 13
    },
    {
     "cell_type": "code",
     "collapsed": false,
     "input": [
      "#identical output to TestA-B\n",
      "for i,freq in enumerate(eorfreq):\n",
      "    #added for debug:\n",
      "#    print i\n",
      "#    print freq\n",
      "#    print manymaps32[i]\n",
      "#    print len(manymaps32[i])\n",
      "#    print maps[str(freq)]\n",
      "#    print len(maps[str(freq)])\n",
      "    maps[str(freq)] = st.timemaps(manymaps32[i],fwhm,eortime)"
     ],
     "language": "python",
     "metadata": {},
     "outputs": [
      {
       "output_type": "stream",
       "stream": "stdout",
       "text": [
        "Sigma is 3057.558481 arcmin (0.889408 rad) \n",
        "-> fwhm is 7200.000000 arcmin\n",
        "Sigma is 0.000000 arcmin (0.000000 rad) \n",
        "-> fwhm is 0.000000 arcmin\n",
        "Sigma is 3057.558481 arcmin (0.889408 rad) "
       ]
      },
      {
       "output_type": "stream",
       "stream": "stdout",
       "text": [
        "\n",
        "-> fwhm is 7200.000000 arcmin\n",
        "Sigma is 0.000000 arcmin (0.000000 rad) "
       ]
      },
      {
       "output_type": "stream",
       "stream": "stdout",
       "text": [
        "\n",
        "-> fwhm is 0.000000 arcmin\n",
        "Sigma is 3057.558481 arcmin (0.889408 rad) "
       ]
      },
      {
       "output_type": "stream",
       "stream": "stdout",
       "text": [
        "\n",
        "-> fwhm is 7200.000000 arcmin\n",
        "Sigma is 0.000000 arcmin (0.000000 rad) "
       ]
      },
      {
       "output_type": "stream",
       "stream": "stdout",
       "text": [
        "\n",
        "-> fwhm is 0.000000 arcmin\n",
        "Sigma is 3057.558481 arcmin (0.889408 rad) "
       ]
      },
      {
       "output_type": "stream",
       "stream": "stdout",
       "text": [
        "\n",
        "-> fwhm is 7200.000000 arcmin\n",
        "Sigma is 0.000000 arcmin (0.000000 rad) \n",
        "-> fwhm is 0.000000 arcmin\n",
        "Sigma is 3057.558481 arcmin (0.889408 rad) "
       ]
      },
      {
       "output_type": "stream",
       "stream": "stdout",
       "text": [
        "\n",
        "-> fwhm is 7200.000000 arcmin\n",
        "Sigma is 0.000000 arcmin (0.000000 rad) \n",
        "-> fwhm is 0.000000 arcmin\n",
        "Sigma is 3057.558481 arcmin (0.889408 rad) "
       ]
      },
      {
       "output_type": "stream",
       "stream": "stdout",
       "text": [
        "\n",
        "-> fwhm is 7200.000000 arcmin\n",
        "Sigma is 0.000000 arcmin (0.000000 rad) \n",
        "-> fwhm is 0.000000 arcmin\n"
       ]
      }
     ],
     "prompt_number": 14
    },
    {
     "cell_type": "code",
     "collapsed": false,
     "input": [
      "print maps #added for TestB - Different from TestB\n",
      "           #and TestA's later printing\n",
      "print eorfreq[1]"
     ],
     "language": "python",
     "metadata": {},
     "outputs": [
      {
       "output_type": "stream",
       "stream": "stdout",
       "text": [
        "{'260': array([  58.46350195,   57.99258923,   56.90501276, ...,  300.        ,\n",
        "        300.        ,  300.        ]), '259': array([  59.0556172 ,   58.57993471,   57.48134595, ...,  300.        ,\n",
        "        300.        ,  300.        ])}\n",
        "260\n"
       ]
      }
     ],
     "prompt_number": 15
    },
    {
     "cell_type": "code",
     "collapsed": false,
     "input": [
      "#Identical to TestA-B\n",
      "#print \"old_timemaps\", timemaps\n",
      "#testmap1 and testmap2 are predictably the same it appears\n",
      "#but testmap3 changes; randomized somehow within replace_with_earth\n",
      "timemaps = []\n",
      "print \"empty_timemaps\", timemaps\n",
      "count = 1\n",
      "fwhm_degrees = 120\n",
      "for index in range(len(eortime)):\n",
      "    testmap=st.galmap2eqmap(manymaps32[count])\n",
      "    print \"testmap1:\", testmap\n",
      "    testmap=st.eqmap2azelmap(testmap,ut=eortime[index])\n",
      "    print \"testmap2:\", testmap\n",
      "    testmap=st.replacFe_with_earth(testmap)\n",
      "    print \"testmap3:\", testmap\n",
      "    timemaps.append(hp.smoothing(testmap,np.radians(fwhm_degrees),regression=False))\n",
      "    print timemaps"
     ],
     "language": "python",
     "metadata": {},
     "outputs": [
      {
       "output_type": "stream",
       "stream": "stdout",
       "text": [
        "empty_timemaps []\n",
        "testmap1:"
       ]
      },
      {
       "output_type": "stream",
       "stream": "stdout",
       "text": [
        " [ 72.1201182   72.46021592  70.76989156 ...,   0.          65.99751941\n",
        "  67.30116129]\n",
        "testmap2:"
       ]
      },
      {
       "output_type": "stream",
       "stream": "stdout",
       "text": [
        " [ 34.17880064  33.77438578  33.34175831 ...,   0.          71.23514017\n",
        "  71.71415631]\n",
        "testmap3:"
       ]
      },
      {
       "output_type": "stream",
       "stream": "stdout",
       "text": [
        " [  34.17880064   33.77438578   33.34175831 ...,  300.          300.          300.        ]\n",
        "Sigma is 3057.558481 arcmin (0.889408 rad) "
       ]
      },
      {
       "output_type": "stream",
       "stream": "stdout",
       "text": [
        "\n",
        "-> fwhm is 7200.000000 arcmin\n",
        "Sigma is 0.000000 arcmin (0.000000 rad) "
       ]
      },
      {
       "output_type": "stream",
       "stream": "stdout",
       "text": [
        "\n",
        "-> fwhm is 0.000000 arcmin\n",
        "[array([-81.4778599 , -81.48740598, -81.4770693 , ...,  79.13753703,\n",
        "        79.13925886,  79.14336444])]"
       ]
      },
      {
       "output_type": "stream",
       "stream": "stdout",
       "text": [
        "\n",
        "testmap1:"
       ]
      },
      {
       "output_type": "stream",
       "stream": "stdout",
       "text": [
        " [ 72.1201182   72.46021592  70.76989156 ...,   0.          65.99751941\n",
        "  67.30116129]\n",
        "testmap2:"
       ]
      },
      {
       "output_type": "stream",
       "stream": "stdout",
       "text": [
        " [ 41.02585253  40.98962389  40.37824657 ...,  54.07963124  54.11768471\n",
        "  54.06477378]\n",
        "testmap3:"
       ]
      },
      {
       "output_type": "stream",
       "stream": "stdout",
       "text": [
        " [  41.02585253   40.98962389   40.37824657 ...,  300.          300.          300.        ]\n",
        "Sigma is 3057.558481 arcmin (0.889408 rad) "
       ]
      },
      {
       "output_type": "stream",
       "stream": "stdout",
       "text": [
        "\n",
        "-> fwhm is 7200.000000 arcmin\n",
        "Sigma is 0.000000 arcmin (0.000000 rad) "
       ]
      },
      {
       "output_type": "stream",
       "stream": "stdout",
       "text": [
        "\n",
        "-> fwhm is 0.000000 arcmin\n",
        "[array([-81.4778599 , -81.48740598, -81.4770693 , ...,  79.13753703,\n",
        "        79.13925886,  79.14336444]), array([-82.4954701 , -82.50464422, -82.50069871, ...,  78.92293548,\n",
        "        78.92331793,  78.92727933])]"
       ]
      },
      {
       "output_type": "stream",
       "stream": "stdout",
       "text": [
        "\n",
        "testmap1:"
       ]
      },
      {
       "output_type": "stream",
       "stream": "stdout",
       "text": [
        " [ 72.1201182   72.46021592  70.76989156 ...,   0.          65.99751941\n",
        "  67.30116129]\n",
        "testmap2:"
       ]
      },
      {
       "output_type": "stream",
       "stream": "stdout",
       "text": [
        " [ 58.46350195  57.99258923  56.90501276 ...,  56.86885444  57.63607301\n",
        "  57.81035287]\n",
        "testmap3:"
       ]
      },
      {
       "output_type": "stream",
       "stream": "stdout",
       "text": [
        " [  58.46350195   57.99258923   56.90501276 ...,  300.          300.          300.        ]\n",
        "Sigma is 3057.558481 arcmin (0.889408 rad) "
       ]
      },
      {
       "output_type": "stream",
       "stream": "stdout",
       "text": [
        "\n",
        "-> fwhm is 7200.000000 arcmin\n",
        "Sigma is 0.000000 arcmin (0.000000 rad) \n",
        "-> fwhm is 0.000000 arcmin\n",
        "[array([-81.4778599 , -81.48740598, -81.4770693 , ...,  79.13753703,\n",
        "        79.13925886,  79.14336444]), array([-82.4954701 , -82.50464422, -82.50069871, ...,  78.92293548,\n",
        "        78.92331793,  78.92727933]), array([-82.87646624, -82.88506262, -82.89109473, ...,  78.41719045,\n",
        "        78.41430637,  78.41896055])]"
       ]
      },
      {
       "output_type": "stream",
       "stream": "stdout",
       "text": [
        "\n"
       ]
      }
     ],
     "prompt_number": 31
    },
    {
     "cell_type": "code",
     "collapsed": false,
     "input": [
      "#Identical to TestA-B\n",
      "#TestC2: Reran, now different from TestA-C1\n",
      "print timemaps"
     ],
     "language": "python",
     "metadata": {},
     "outputs": [
      {
       "output_type": "stream",
       "stream": "stdout",
       "text": [
        "[array([-81.4778599 , -81.48740598, -81.4770693 , ...,  79.13753703,\n",
        "        79.13925886,  79.14336444]), array([-82.4954701 , -82.50464422, -82.50069871, ...,  78.92293548,\n",
        "        78.92331793,  78.92727933]), array([-82.87646624, -82.88506262, -82.89109473, ...,  78.41719045,\n",
        "        78.41430637,  78.41896055])]\n"
       ]
      }
     ],
     "prompt_number": 32
    },
    {
     "cell_type": "code",
     "collapsed": false,
     "input": [
      "#Identical to TestA-B\n",
      "#TestC2: Reran, now different from TestA-C1\n",
      "timemap_zenith = []\n",
      "for index in range(len(timemaps)):\n",
      "    timemap_index = timemaps[index]\n",
      "    print timemap_index\n",
      "    timemap_zenith.append(timemap_index[0])\n",
      "    print timemap_index[0]"
     ],
     "language": "python",
     "metadata": {},
     "outputs": [
      {
       "output_type": "stream",
       "stream": "stdout",
       "text": [
        "[-81.4778599  -81.48740598 -81.4770693  ...,  79.13753703  79.13925886\n",
        "  79.14336444]\n",
        "-81.4778599031\n",
        "[-82.4954701  -82.50464422 -82.50069871 ...,  78.92293548  78.92331793\n",
        "  78.92727933]\n",
        "-82.4954700999\n",
        "[-82.87646624 -82.88506262 -82.89109473 ...,  78.41719045  78.41430637\n",
        "  78.41896055]\n",
        "-82.876466242\n"
       ]
      }
     ],
     "prompt_number": 33
    },
    {
     "cell_type": "code",
     "collapsed": false,
     "input": [
      "#Identical to TestA-B\n",
      "#TestC2: Reran, now different from TestA-C1\n",
      "print timemaps\n",
      "print timemap_zenith\n",
      "print eortime"
     ],
     "language": "python",
     "metadata": {},
     "outputs": [
      {
       "output_type": "stream",
       "stream": "stdout",
       "text": [
        "[array([-81.4778599 , -81.48740598, -81.4770693 , ...,  79.13753703,\n",
        "        79.13925886,  79.14336444]), array([-82.4954701 , -82.50464422, -82.50069871, ...,  78.92293548,\n",
        "        78.92331793,  78.92727933]), array([-82.87646624, -82.88506262, -82.89109473, ...,  78.41719045,\n",
        "        78.41430637,  78.41896055])]\n",
        "[-81.477859903100125, -82.495470099943063, -82.876466242013038]\n",
        "[0 1 2]\n"
       ]
      }
     ],
     "prompt_number": 34
    },
    {
     "cell_type": "code",
     "collapsed": false,
     "input": [
      "#Identical to TestA-B\n",
      "#TestC2: Reran, now different from TestA-C1\n",
      "pl.figure()\n",
      "pl.plot(eortime, timemap_zenith)\n",
      "pl.title('SB Zenith at ' +str(eorfreq[count])+'MHz, '+str(fwhm_degrees)+ ' degree Antenna FWHM')\n",
      "pl.xlabel('Time (UT)')\n",
      "pl.ylabel('Antenna Temperature (K)')\n",
      "pl.savefig(str(eorfreq[count])+'mhz_sb_zenith_overtime_'+str(fwhm_degrees)+'deg.png')\n",
      "pl.show()"
     ],
     "language": "python",
     "metadata": {},
     "outputs": [],
     "prompt_number": 35
    },
    {
     "cell_type": "code",
     "collapsed": false,
     "input": [
      "#TestC2: Reran, now different from TestA-C1\n",
      "hp.mollview(timemaps[2], title='Location: Santa Barbara, Frequency:'+str(eorfreq[count])+'MHz, Time:'+str(eortime[2])+'UT, FWHM= '+str(fwhm_degrees)+' deg',unit=str('Antenna Temperature (K)'))\n",
      "pl.savefig(str(eorfreq[count])+'mhz_sbmap_'+str(fwhm_degrees)+'deg.png')"
     ],
     "language": "python",
     "metadata": {},
     "outputs": [],
     "prompt_number": 36
    },
    {
     "cell_type": "code",
     "collapsed": false,
     "input": [
      "#Different from TestA-B\n",
      "#TestC2: Reran, identical to C1\n",
      "print maps\n",
      "print eortime\n",
      "def rotatemaps(maps,eortime):\n",
      "    for time in eortime:\n",
      "            rmap=galmap2eqmap(maps)\n",
      "            print rmap\n",
      "            rmap=eqmap2azelmap(rmap,ut=time)\n",
      "            print rmap\n",
      "            rmap=replace_with_earth(rmap)\n",
      "            print rmap\n",
      "            zenith.append(rmap[0]) #WARNING: Zenith not defined anywhere\n",
      "            print zenith\n",
      "    return rmap\n",
      "#Rotates map with default set to Santa Barbara. Tracks map over time.\n",
      "#Also outputs to a dictionary the zenith point of every map "
     ],
     "language": "python",
     "metadata": {},
     "outputs": [
      {
       "output_type": "stream",
       "stream": "stdout",
       "text": [
        "{'260': array([  58.46350195,   57.99258923,   56.90501276, ...,  300.        ,\n",
        "        300.        ,  300.        ]), '259': array([  59.0556172 ,   58.57993471,   57.48134595, ...,  300.        ,\n",
        "        300.        ,  300.        ])}\n",
        "[0 1 2]\n"
       ]
      }
     ],
     "prompt_number": 22
    },
    {
     "cell_type": "code",
     "collapsed": false,
     "input": [
      "pixaz=np.zeros(datalen,dtype=np.integer)\n",
      "for i,el in enumerate(np.arange(min_el,max_el)):\n",
      "    pixaz[i]=hp.ang2pix(32,np.pi/2. - el*dtr,fixed_az*dtr)\n",
      "    #print \"El:\", el\n",
      "    #print \"Pixaz element:\", pixaz[i]\n",
      "print \"Pixaz:\", pixaz"
     ],
     "language": "python",
     "metadata": {},
     "outputs": [
      {
       "output_type": "stream",
       "stream": "stdout",
       "text": [
        "Pixaz: [11461 11461 11290 11290 11199 11199 11004 11004 10901 10901 10901 10682\n",
        " 10682 10567 10567 10567 10324 10324 10197 10197 10069  9941  9941  9813\n",
        "  9685  9685  9557  9429  9429  9301  9173  9045  8917  8917  8789  8661\n",
        "  8661  8533  8405  8277  8149  8149  8021  7893  7765  7637  7637  7509\n",
        "  7381  7253  7125  7125  6997  6869  6741  6613  6613  6357  6357  6229\n",
        "  6101  5973  5845  5845  5589  5589  5461  5333  5205  5077  5077  4949\n",
        "  4821  4693  4565  4565  4437  4309  4181  4053  4053  3925  3797  3669\n",
        "  3541  3541  3413  3285  3285  3157  3029  2901  2773  2773  2645  2517\n",
        "  2517  2389  2261  2261  2133  2005  2005  1880  1880  1643  1643  1643\n",
        "  1530  1530  1317  1317  1317  1216  1216  1027  1027   938   938   773]\n"
       ]
      }
     ],
     "prompt_number": 23
    },
    {
     "cell_type": "code",
     "collapsed": false,
     "input": [
      "spec=np.zeros([speclen,datalen])\n",
      "print \"Speclen:\", speclen\n",
      "print \"Datalen:\", datalen\n",
      "for j in range(speclen):\n",
      "    for i,pix in enumerate(pixaz):\n",
      "        #print \"Pix:\", pix\n",
      "        spec[j,i]=manymaps32[j][pix]\n",
      "        #print \"Spec element\", spec[j,i]\n",
      "print spec"
     ],
     "language": "python",
     "metadata": {},
     "outputs": [
      {
       "output_type": "stream",
       "stream": "stdout",
       "text": [
        "Speclen: 2\n",
        "Datalen: 120\n",
        "[[ 55.41307607  55.41307607  47.76393924  47.76393924  49.64307241\n",
        "   49.64307241  52.74694931  52.74694931  49.84043032  49.84043032\n",
        "   49.84043032  46.77697377  46.77697377  56.40033385  56.40033385\n",
        "   56.40033385  51.89541566  51.89541566  55.91608871  55.91608871\n",
        "   45.63802877  55.79676183  55.79676183  49.59321589  62.6124273\n",
        "   62.6124273   50.4001225   60.12632851  60.12632851  51.66332586\n",
        "   52.0718389   56.56245385  50.06050393  50.06050393  53.92820702\n",
        "   50.91268739  50.91268739  56.98412433  50.90793193  58.21305023\n",
        "   50.58701974  50.58701974  58.78002398  51.33339746  55.8023369\n",
        "   51.60574271  51.60574271  52.42219514  52.74049448  53.4194242\n",
        "   53.73075401  53.73075401  52.36145574  58.00222102  52.1982506\n",
        "   56.02071663  56.02071663  53.53573682  53.53573682  51.94864976\n",
        "   53.46736805  55.83893599  51.11966403  51.11966403  48.62356482\n",
        "   48.62356482  55.43594395  53.90827346  50.08994018  53.83090949\n",
        "   53.83090949  51.7558394   50.615732    54.31149518  49.72468289\n",
        "   49.72468289  51.52947008  54.97006537  50.51819653  49.83981736\n",
        "   49.83981736  56.77704618  56.37405906  50.9471785   51.68744136\n",
        "   51.68744136  58.9831406   55.47911893  55.47911893  51.79318564\n",
        "   49.51166181  52.88792393  55.87860682  55.87860682  55.23225463\n",
        "   52.56503676  52.56503676  56.08657921  56.17304485  56.17304485\n",
        "   54.05954443  54.4081608   54.4081608   55.19475257  55.19475257\n",
        "   56.67748876  56.67748876  56.67748876  57.66599913  57.66599913\n",
        "   59.45307651  59.45307651  59.45307651  60.36304198  60.36304198\n",
        "   61.69556538  61.69556538  62.04122523  62.04122523  62.19733889]\n",
        " [ 54.85728184  54.85728184  47.28529638  47.28529638  49.14504574\n",
        "   49.14504574  52.21841235  52.21841235  49.34041887  49.34041887\n",
        "   49.34041887  46.3081867   46.3081867   55.83470728  55.83470728\n",
        "   55.83470728  51.37483755  51.37483755  55.3558107   55.3558107\n",
        "   45.18051264  55.23747689  55.23747689  49.09614329  61.98483926\n",
        "   61.98483926  49.89504057  59.52347796  59.52347796  51.14566145\n",
        "   51.54940813  55.99577988  49.55810952  49.55810952  53.3879724\n",
        "   50.40176429  50.40176429  56.41328503  50.39722529  57.62989774\n",
        "   50.07954632  50.07954632  58.19119865  50.81841862  55.24335279\n",
        "   51.08786997  51.08786997  51.89705614  52.21128298  52.88421236\n",
        "   53.19189194  53.19189194  51.83672377  57.42084644  51.67505496\n",
        "   55.45925543  55.45925543  52.99942253  52.99942253  51.4275116\n",
        "   52.93170288  55.27910859  50.60727638  50.60727638  48.13589227\n",
        "   48.13589227  54.88060071  53.36783449  49.58781655  53.29164299\n",
        "   53.29164299  51.2366168   50.1084087   53.76729152  49.22582157\n",
        "   49.22582157  51.01299476  54.41931602  50.0114789   49.34019792\n",
        "   49.34019792  56.20829817  55.80902281  50.43618625  51.1693592\n",
        "   51.1693592   58.3922809   54.92308701  54.92308701  51.27371247\n",
        "   49.01520609  52.35780815  55.3187728   55.3187728   54.67889919\n",
        "   52.03827049  52.03827049  55.52441834  55.60989376  55.60989376\n",
        "   53.51751774  53.86263139  53.86263139  54.64134313  54.64134313\n",
        "   56.10921372  56.10921372  56.10921372  57.08782049  57.08782049\n",
        "   58.85698368  58.85698368  58.85698368  59.75783443  59.75783443\n",
        "   61.07700471  61.07700471  61.41920909  61.41920909  61.57376804]]\n"
       ]
      }
     ],
     "prompt_number": 24
    },
    {
     "cell_type": "code",
     "collapsed": false,
     "input": [
      "plt.pcolormesh(spec)\n",
      "#\"pseudo\" color plot of 2D array.\n",
      "#looks like... the redder, the larger the number\n",
      "#the bluer the smaller the number.\n",
      "#Apparently"
     ],
     "language": "python",
     "metadata": {},
     "outputs": [
      {
       "metadata": {},
       "output_type": "pyout",
       "prompt_number": 25,
       "text": [
        "<matplotlib.collections.QuadMesh at 0x7fd4e8e35e90>"
       ]
      }
     ],
     "prompt_number": 25
    },
    {
     "cell_type": "code",
     "collapsed": false,
     "input": [
      "#take the first difference along each of the returned spectra\n",
      "dspec=copy.copy(spec)\n",
      "dspec[1:,:]=np.diff(spec,axis=0)\n",
      "dspec[0,:]=dspec[1,:]"
     ],
     "language": "python",
     "metadata": {},
     "outputs": [],
     "prompt_number": 26
    },
    {
     "cell_type": "code",
     "collapsed": false,
     "input": [
      "#fit to a power law (linear fit after the log)\n",
      "dpowlawmodel=np.zeros([speclen,datalen])\n",
      "for i in range(datalen):\n",
      "    (ar,br)=np.polyfit(eorfreq,log(0.-dspec[:,i]),1)\n",
      "    dpowlawmodel[:,i]=0.-e**polyval([ar,br],eorfreq)"
     ],
     "language": "python",
     "metadata": {},
     "outputs": [],
     "prompt_number": 27
    },
    {
     "cell_type": "code",
     "collapsed": false,
     "input": [
      "#ff=open('jnk.pkl','wb')\n",
      "#cPickle.dump(a,ff)\n",
      "#ff.close()\n",
      "#g=open('jnk.pkl','rb')\n",
      "#b=cPickle.load(g)\n",
      "#g.close()"
     ],
     "language": "python",
     "metadata": {},
     "outputs": [],
     "prompt_number": 28
    },
    {
     "cell_type": "code",
     "collapsed": false,
     "input": [],
     "language": "python",
     "metadata": {},
     "outputs": [],
     "prompt_number": 28
    }
   ],
   "metadata": {}
  }
 ]
}
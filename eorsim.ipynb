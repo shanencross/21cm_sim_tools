{
 "metadata": {
  "name": "",
  "signature": "sha256:addfe989d298de4b4b3e3769a393235131f1e0c6bdf9481a7ad0904ba542353c"
 },
 "nbformat": 3,
 "nbformat_minor": 0,
 "worksheets": [
  {
   "cells": [
    {
     "cell_type": "code",
     "collapsed": false,
     "input": [
      "cd /home/shanen/Documents/Programming/21cm_sim_tools"
     ],
     "language": "python",
     "metadata": {},
     "outputs": [
      {
       "output_type": "stream",
       "stream": "stdout",
       "text": [
        "/home/shanen/Documents/Programming/21cm_sim_tools\n"
       ]
      }
     ],
     "prompt_number": 1
    },
    {
     "cell_type": "code",
     "collapsed": false,
     "input": [
      "import numpy as np\n",
      "import pyfits as pyfits\n",
      "import ephem \n",
      "from glob import glob\n",
      "from matplotlib import mlab\n",
      "import time\n",
      "import copy\n",
      "import quaternion as quat\n",
      "import healpy as hp\n",
      "import numexpr\n",
      "import pylab as pl\n",
      "import scipy.interpolate as sp\n",
      "import simtools as st\n",
      "\n",
      "import matplotlib.pyplot as plt #added to make pcolormesh work\n",
      "\n",
      "%autocall 2\n",
      "#from simtools import gencomponents"
     ],
     "language": "python",
     "metadata": {},
     "outputs": [
      {
       "output_type": "stream",
       "stream": "stdout",
       "text": [
        "Automatic calling is: Full\n"
       ]
      }
     ],
     "prompt_number": 39
    },
    {
     "cell_type": "code",
     "collapsed": false,
     "input": [
      "reload(st)"
     ],
     "language": "python",
     "metadata": {},
     "outputs": [
      {
       "metadata": {},
       "output_type": "pyout",
       "prompt_number": 3,
       "text": [
        "<module 'simtools' from 'simtools.pyc'>"
       ]
      }
     ],
     "prompt_number": 3
    },
    {
     "cell_type": "code",
     "collapsed": false,
     "input": [
      "second_jul = 0.1 / 8640\n",
      "pi = np.pi\n",
      "rtd=180/np.pi\n",
      "dtr=np.pi/180\n",
      "lowfreq=259\n",
      "hifreq=261\n",
      "stepfreq=1\n",
      "ri_start=150\n",
      "ri_stop=160\n",
      "fixed_az=60. #degrees\n",
      "min_el=-60. #degrees\n",
      "max_el=60.  #degrees\n",
      "datalen=np.int(max_el-min_el) #just use integral number of degrees, 1 per step, for now'''\n",
      "time_start = 0\n",
      "time_end = 3\n",
      "time_step = 1"
     ],
     "language": "python",
     "metadata": {},
     "outputs": [],
     "prompt_number": 4
    },
    {
     "cell_type": "code",
     "collapsed": false,
     "input": [
      "speclen = np.int((hifreq-lowfreq)/stepfreq) \n",
      "#generates the number of points used\n",
      "eorsig = np.zeros(speclen) \n",
      "#generates array with \n",
      "eorfreq = np.arange(lowfreq,hifreq,stepfreq)\n",
      "#Generates array of different frequencies in range defined by user\n",
      "eortime = np.arange(time_start,time_end,time_step)\n",
      "#Generates array of different UT times in range defined by user"
     ],
     "language": "python",
     "metadata": {},
     "outputs": [],
     "prompt_number": 5
    },
    {
     "cell_type": "code",
     "collapsed": false,
     "input": [
      "'''for f in eorfreq:\n",
      "    if f<=ri_start:\n",
      "        eorsig[f==eorfreq]=.15\n",
      "    if f>ri_start:\n",
      "        if f< ri_stop:\n",
      "            eorsig[f==eorfreq]=.15-.15*(f-ri_start)/(ri_stop-ri_start)'''\n",
      "\n",
      "#Adds a simulated 21cm signal to the maps so as to better model real life"
     ],
     "language": "python",
     "metadata": {},
     "outputs": [
      {
       "metadata": {},
       "output_type": "pyout",
       "prompt_number": 6,
       "text": [
        "'for f in eorfreq:\\n    if f<=ri_start:\\n        eorsig[f==eorfreq]=.15\\n    if f>ri_start:\\n        if f< ri_stop:\\n            eorsig[f==eorfreq]=.15-.15*(f-ri_start)/(ri_stop-ri_start)'"
       ]
      }
     ],
     "prompt_number": 6
    },
    {
     "cell_type": "code",
     "collapsed": false,
     "input": [
      "#principle components analysis\n",
      "#hmap408: hazlam map\n",
      "cp1,cp2,cp3,cp4,hmap408 = st.gencomponents()"
     ],
     "language": "python",
     "metadata": {},
     "outputs": [],
     "prompt_number": 7
    },
    {
     "cell_type": "code",
     "collapsed": false,
     "input": [
      "manymaps32=[]\n",
      "#nside = 32\n",
      "#fills manymaps32 with 32bit per pixel maps at each defined frequency\n",
      "for i,freq in enumerate(eorfreq):\n",
      "    #manymaps32.append(makemap(freq))\n",
      "    manymaps32.append(st.makemap(freq,cp1,cp2,cp3,cp4,hmap408)+eorsig[i])\n",
      "    #manymaps32.append(makemap(freq, nside=nside))"
     ],
     "language": "python",
     "metadata": {},
     "outputs": [],
     "prompt_number": 8
    },
    {
     "cell_type": "code",
     "collapsed": false,
     "input": [
      "def timemaps(maps,fwhm_degrees, eortime):\n",
      "    timemaps=[]\n",
      "    for index in range(len(eortime)):\n",
      "        testmap=st.galmap2eqmap(maps)\n",
      "        testmap=st.eqmap2azelmap(testmap,ut=eortime[index])\n",
      "        testmap=st.replace_with_earth(testmap)\n",
      "        timemaps.append(hp.smoothing(testmap,np.radians(fwhm_degrees),regression=False ))\n",
      "    return testmap"
     ],
     "language": "python",
     "metadata": {},
     "outputs": [],
     "prompt_number": 9
    },
    {
     "cell_type": "code",
     "collapsed": false,
     "input": [
      "maps = {}\n",
      "mapzenith = {}"
     ],
     "language": "python",
     "metadata": {},
     "outputs": [],
     "prompt_number": 10
    },
    {
     "cell_type": "code",
     "collapsed": false,
     "input": [
      "fwhm = 120"
     ],
     "language": "python",
     "metadata": {},
     "outputs": [],
     "prompt_number": 11
    },
    {
     "cell_type": "code",
     "collapsed": false,
     "input": [
      "for i,freq in enumerate(eorfreq):\n",
      "    maps[str(freq)] = st.timemaps(manymaps32[i],fwhm,eortime)"
     ],
     "language": "python",
     "metadata": {},
     "outputs": [
      {
       "output_type": "stream",
       "stream": "stdout",
       "text": [
        "Sigma is 3057.558481 arcmin (0.889408 rad) \n",
        "-> fwhm is 7200.000000 arcmin\n",
        "Sigma is 0.000000 arcmin (0.000000 rad) "
       ]
      },
      {
       "output_type": "stream",
       "stream": "stdout",
       "text": [
        "\n",
        "-> fwhm is 0.000000 arcmin\n",
        "Sigma is 3057.558481 arcmin (0.889408 rad) "
       ]
      },
      {
       "output_type": "stream",
       "stream": "stdout",
       "text": [
        "\n",
        "-> fwhm is 7200.000000 arcmin\n",
        "Sigma is 0.000000 arcmin (0.000000 rad) "
       ]
      },
      {
       "output_type": "stream",
       "stream": "stdout",
       "text": [
        "\n",
        "-> fwhm is 0.000000 arcmin\n",
        "Sigma is 3057.558481 arcmin (0.889408 rad) "
       ]
      },
      {
       "output_type": "stream",
       "stream": "stdout",
       "text": [
        "\n",
        "-> fwhm is 7200.000000 arcmin\n",
        "Sigma is 0.000000 arcmin (0.000000 rad) \n",
        "-> fwhm is 0.000000 arcmin\n",
        "Sigma is 3057.558481 arcmin (0.889408 rad) "
       ]
      },
      {
       "output_type": "stream",
       "stream": "stdout",
       "text": [
        "\n",
        "-> fwhm is 7200.000000 arcmin\n",
        "Sigma is 0.000000 arcmin (0.000000 rad) \n",
        "-> fwhm is 0.000000 arcmin\n",
        "Sigma is 3057.558481 arcmin (0.889408 rad) "
       ]
      },
      {
       "output_type": "stream",
       "stream": "stdout",
       "text": [
        "\n",
        "-> fwhm is 7200.000000 arcmin\n",
        "Sigma is 0.000000 arcmin (0.000000 rad) \n",
        "-> fwhm is 0.000000 arcmin\n",
        "Sigma is 3057.558481 arcmin (0.889408 rad) "
       ]
      },
      {
       "output_type": "stream",
       "stream": "stdout",
       "text": [
        "\n",
        "-> fwhm is 7200.000000 arcmin\n",
        "Sigma is 0.000000 arcmin (0.000000 rad) \n",
        "-> fwhm is 0.000000 arcmin\n"
       ]
      }
     ],
     "prompt_number": 12
    },
    {
     "cell_type": "code",
     "collapsed": false,
     "input": [
      "print eorfreq[1]"
     ],
     "language": "python",
     "metadata": {},
     "outputs": [
      {
       "output_type": "stream",
       "stream": "stdout",
       "text": [
        "260\n"
       ]
      }
     ],
     "prompt_number": 13
    },
    {
     "cell_type": "code",
     "collapsed": false,
     "input": [
      "timemaps = []\n",
      "count = 1\n",
      "fwhm_degrees = 120\n",
      "for index in range(len(eortime)):\n",
      "    testmap=st.galmap2eqmap(manymaps32[count])\n",
      "    testmap=st.eqmap2azelmap(testmap,ut=eortime[index])\n",
      "    testmap=st.replace_with_earth(testmap)\n",
      "    timemaps.append(hp.smoothing(testmap,np.radians(fwhm_degrees),regression=False))"
     ],
     "language": "python",
     "metadata": {},
     "outputs": [
      {
       "output_type": "stream",
       "stream": "stdout",
       "text": [
        "Sigma is 3057.558481 arcmin (0.889408 rad) \n",
        "-> fwhm is 7200.000000 arcmin\n",
        "Sigma is 0.000000 arcmin (0.000000 rad) \n",
        "-> fwhm is 0.000000 arcmin\n",
        "Sigma is 3057.558481 arcmin (0.889408 rad) "
       ]
      },
      {
       "output_type": "stream",
       "stream": "stdout",
       "text": [
        "\n",
        "-> fwhm is 7200.000000 arcmin\n",
        "Sigma is 0.000000 arcmin (0.000000 rad) \n",
        "-> fwhm is 0.000000 arcmin\n",
        "Sigma is 3057.558481 arcmin (0.889408 rad) "
       ]
      },
      {
       "output_type": "stream",
       "stream": "stdout",
       "text": [
        "\n",
        "-> fwhm is 7200.000000 arcmin\n",
        "Sigma is 0.000000 arcmin (0.000000 rad) \n",
        "-> fwhm is 0.000000 arcmin\n"
       ]
      }
     ],
     "prompt_number": 14
    },
    {
     "cell_type": "code",
     "collapsed": false,
     "input": [
      "timemap_zenith = []\n",
      "for index in range(len(timemaps)):\n",
      "    timemap_index = timemaps[index]\n",
      "    timemap_zenith.append(timemap_index[0])"
     ],
     "language": "python",
     "metadata": {},
     "outputs": [],
     "prompt_number": 15
    },
    {
     "cell_type": "code",
     "collapsed": false,
     "input": [
      "pl.figure()\n",
      "pl.plot(eortime, timemap_zenith)\n",
      "pl.title('SB Zenith at ' +str(eorfreq[count])+'MHz, '+str(fwhm_degrees)+ ' degree Antenna FWHM')\n",
      "pl.xlabel('Time (UT)')\n",
      "pl.ylabel('Antenna Temperature (K)')\n",
      "pl.savefig(str(eorfreq[count])+'mhz_sb_zenith_overtime_'+str(fwhm_degrees)+'deg.png')\n",
      "pl.show()"
     ],
     "language": "python",
     "metadata": {},
     "outputs": [],
     "prompt_number": 16
    },
    {
     "cell_type": "code",
     "collapsed": false,
     "input": [
      "hp.mollview(timemaps[2], title='Location: Santa Barbara, Frequency:'+str(eorfreq[count])+'MHz, Time:'+str(eortime[2])+'UT, FWHM= '+str(fwhm_degrees)+' deg',unit=str('Antenna Temperature (K)'))\n",
      "pl.savefig(str(eorfreq[count])+'mhz_sbmap_'+str(fwhm_degrees)+'deg.png')"
     ],
     "language": "python",
     "metadata": {},
     "outputs": [],
     "prompt_number": 27
    },
    {
     "cell_type": "code",
     "collapsed": false,
     "input": [
      "def rotatemaps(maps,eortime):\n",
      "    for time in eortime:\n",
      "            rmap=galmap2eqmap(maps)\n",
      "            rmap=eqmap2azelmap(rmap,ut=time)\n",
      "            rmap=replace_with_earth(rmap)\n",
      "            zenith.append(rmap[0])\n",
      "    return rmap\n",
      "#Rotates map with default set to Santa Barbara. Tracks map over time.\n",
      "#Also outputs to a dictionary the zenith point of every map "
     ],
     "language": "python",
     "metadata": {},
     "outputs": [],
     "prompt_number": 28
    },
    {
     "cell_type": "code",
     "collapsed": false,
     "input": [
      "pixaz=np.zeros(datalen,dtype=np.integer)\n",
      "for i,el in enumerate(np.arange(min_el,max_el)):\n",
      "    pixaz[i]=hp.ang2pix(32,np.pi/2. - el*dtr,fixed_az*dtr) "
     ],
     "language": "python",
     "metadata": {},
     "outputs": [],
     "prompt_number": 29
    },
    {
     "cell_type": "code",
     "collapsed": false,
     "input": [
      "spec=np.zeros([speclen,datalen])\n",
      "for j in range(speclen):\n",
      "    for i,pix in enumerate(pixaz):\n",
      "        spec[j,i]=manymaps32[j][pix]"
     ],
     "language": "python",
     "metadata": {},
     "outputs": [],
     "prompt_number": 30
    },
    {
     "cell_type": "code",
     "collapsed": false,
     "input": [
      "plt.pcolormesh(spec)"
     ],
     "language": "python",
     "metadata": {},
     "outputs": [
      {
       "metadata": {},
       "output_type": "pyout",
       "prompt_number": 40,
       "text": [
        "<matplotlib.collections.QuadMesh at 0x7fe496c246d0>"
       ]
      }
     ],
     "prompt_number": 40
    },
    {
     "cell_type": "code",
     "collapsed": false,
     "input": [
      "#take the first difference along each of the returned spectra\n",
      "dspec=copy(spec)\n",
      "dspec[1:,:]=np.diff(spec,axis=0)\n",
      "dspec[0,:]=dspec[1,:]"
     ],
     "language": "python",
     "metadata": {},
     "outputs": [
      {
       "ename": "TypeError",
       "evalue": "'module' object is not callable",
       "output_type": "pyerr",
       "traceback": [
        "\u001b[1;31m---------------------------------------------------------------------------\u001b[0m\n\u001b[1;31mTypeError\u001b[0m                                 Traceback (most recent call last)",
        "\u001b[1;32m<ipython-input-38-6991c8645080>\u001b[0m in \u001b[0;36m<module>\u001b[1;34m()\u001b[0m\n\u001b[0;32m      1\u001b[0m \u001b[1;31m#take the first difference along each of the returned spectra\u001b[0m\u001b[1;33m\u001b[0m\u001b[1;33m\u001b[0m\u001b[0m\n\u001b[1;32m----> 2\u001b[1;33m \u001b[0mdspec\u001b[0m\u001b[1;33m=\u001b[0m\u001b[0mcopy\u001b[0m\u001b[1;33m(\u001b[0m\u001b[0mspec\u001b[0m\u001b[1;33m)\u001b[0m\u001b[1;33m\u001b[0m\u001b[0m\n\u001b[0m\u001b[0;32m      3\u001b[0m \u001b[0mdspec\u001b[0m\u001b[1;33m[\u001b[0m\u001b[1;36m1\u001b[0m\u001b[1;33m:\u001b[0m\u001b[1;33m,\u001b[0m\u001b[1;33m:\u001b[0m\u001b[1;33m]\u001b[0m\u001b[1;33m=\u001b[0m\u001b[0mnp\u001b[0m\u001b[1;33m.\u001b[0m\u001b[0mdiff\u001b[0m\u001b[1;33m(\u001b[0m\u001b[0mspec\u001b[0m\u001b[1;33m,\u001b[0m\u001b[0maxis\u001b[0m\u001b[1;33m=\u001b[0m\u001b[1;36m0\u001b[0m\u001b[1;33m)\u001b[0m\u001b[1;33m\u001b[0m\u001b[0m\n\u001b[0;32m      4\u001b[0m \u001b[0mdspec\u001b[0m\u001b[1;33m[\u001b[0m\u001b[1;36m0\u001b[0m\u001b[1;33m,\u001b[0m\u001b[1;33m:\u001b[0m\u001b[1;33m]\u001b[0m\u001b[1;33m=\u001b[0m\u001b[0mdspec\u001b[0m\u001b[1;33m[\u001b[0m\u001b[1;36m1\u001b[0m\u001b[1;33m,\u001b[0m\u001b[1;33m:\u001b[0m\u001b[1;33m]\u001b[0m\u001b[1;33m\u001b[0m\u001b[0m\n",
        "\u001b[1;31mTypeError\u001b[0m: 'module' object is not callable"
       ]
      }
     ],
     "prompt_number": 38
    },
    {
     "cell_type": "code",
     "collapsed": false,
     "input": [
      "#fit to a power law (linear fit after the log)\n",
      "dpowlawmodel=np.zeros([speclen,datalen])\n",
      "for i in range(datalen):\n",
      "    (ar,br)=polyfit(eorfreq,log(0.-dspec[:,i]),1)\n",
      "    dpowlawmodel[:,i]=0.-e**polyval([ar,br],eorfreq)"
     ],
     "language": "python",
     "metadata": {},
     "outputs": []
    },
    {
     "cell_type": "code",
     "collapsed": false,
     "input": [],
     "language": "python",
     "metadata": {},
     "outputs": []
    },
    {
     "cell_type": "code",
     "collapsed": false,
     "input": [
      "ff=open('jnk.pkl','wb')\n",
      "cPickle.dump(a,ff)\n",
      "ff.close()\n",
      "g=open('jnk.pkl','rb')\n",
      "b=cPickle.load(g)\n",
      "g.close()"
     ],
     "language": "python",
     "metadata": {},
     "outputs": []
    }
   ],
   "metadata": {}
  }
 ]
}
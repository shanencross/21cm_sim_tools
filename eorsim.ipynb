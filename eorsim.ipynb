{
 "metadata": {
  "name": "",
  "signature": "sha256:8bbb9fc051827bded31234b178b2edc90e6e9e0ab4f0feb6a24a4261d9a5b22d"
 },
 "nbformat": 3,
 "nbformat_minor": 0,
 "worksheets": [
  {
   "cells": [
    {
     "cell_type": "code",
     "collapsed": false,
     "input": [
      "cd /home/shanen/Documents/Programming/21cm_sim_tools"
     ],
     "language": "python",
     "metadata": {},
     "outputs": [
      {
       "output_type": "stream",
       "stream": "stdout",
       "text": [
        "/home/shanen/Documents/Programming/21cm_sim_tools\n"
       ]
      }
     ],
     "prompt_number": 1
    },
    {
     "cell_type": "code",
     "collapsed": false,
     "input": [
      "\n",
      "#import needed modules\n",
      "import numpy as np\n",
      "import pyfits as pyfits\n",
      "import ephem \n",
      "from glob import glob\n",
      "from matplotlib import mlab\n",
      "import time\n",
      "import copy\n",
      "import quaternion as quat\n",
      "import healpy as hp\n",
      "import numexpr\n",
      "import pylab as pl\n",
      "import scipy.interpolate as sp\n",
      "import simtools as st\n",
      "\n",
      "import matplotlib.pyplot as plt #added to make pcolormesh work\n",
      "\n",
      "#apparently, this makes it so that writing function_name is the same as writing function_name() \n",
      "#and that writing function_name parameter is the same as writing function_name(parameter)\n",
      "%autocall 2\n",
      "#from simtools import gencomponents"
     ],
     "language": "python",
     "metadata": {},
     "outputs": [
      {
       "output_type": "stream",
       "stream": "stdout",
       "text": [
        "Automatic calling is: Full\n"
       ]
      }
     ],
     "prompt_number": 2
    },
    {
     "cell_type": "code",
     "collapsed": false,
     "input": [
      "#reloads and reexcutes code for simtools\n",
      "#...but no changes have been made to simtools since import, so possibly redundant?\n",
      "reload(st)"
     ],
     "language": "python",
     "metadata": {},
     "outputs": [
      {
       "metadata": {},
       "output_type": "pyout",
       "prompt_number": 3,
       "text": [
        "<module 'simtools' from 'simtools.pyc'>"
       ]
      }
     ],
     "prompt_number": 3
    },
    {
     "cell_type": "code",
     "collapsed": false,
     "input": [
      "#define a bunch of values for \"constants\"\n",
      "\n",
      "#don't know what this is - unused so far\n",
      "second_jul = 0.1 / 8640 \n",
      "# pi\n",
      "pi = np.pi \n",
      "# factor for converting from radians to degrees - unused so far\n",
      "rtd=180/np.pi\n",
      "# factor for converting form degrees to radians - unused so far\n",
      "dtr=np.pi/180\n",
      "# lower bound of frequences used in eorfreq array - used\n",
      "lowfreq=259\n",
      "# upper bound of frequencies used in eorfreq array - used\n",
      "hifreq=261 \n",
      "# interval between freq elements in eorfreq array - used\n",
      "stepfreq=1 \n",
      "# some sort of lower frequency bound to which freqs in eorfreq array are compared - used\n",
      "ri_start=150\n",
      "# some sort of upper frequency bound to which freqs in eorfreq array are compared - used\n",
      "ri_stop=160 \n",
      "# don't now what this is - used\n",
      "fixed_az=60. #degrees\n",
      "# don't know what this is, some lower degree bound - used\n",
      "min_el=-60. #degrees \n",
      "# don't know what this is, some upper degree bound - used\n",
      "max_el=60.  #degrees \n",
      "# the difference between max_el and min_el converted into an integral - used\n",
      "# presumably the length for some sort of array which will contain values from min_el to max_el?\n",
      "datalen=np.int(max_el-min_el) #just use integral number of degrees, 1 per step, for now'''\n",
      "# upper bound of times used in eortime array\n",
      "time_start = 0\n",
      "# lower bound of times used in eortime array\n",
      "time_end = 3\n",
      "#interval between time elements in eortime array\n",
      "time_step = 1"
     ],
     "language": "python",
     "metadata": {},
     "outputs": [],
     "prompt_number": 4
    },
    {
     "cell_type": "code",
     "collapsed": false,
     "input": [
      "# length of eorsig array - difference of hifreq and lowfreq, divided by freq interval length, converted into int - used\n",
      "speclen = np.int((hifreq-lowfreq)/stepfreq)\n",
      "#generates the number of points used\n",
      "\n",
      "# creates eorsig array filled with 0s of length \"speclen\"\n",
      "eorsig = np.zeros(speclen)\n",
      "#generates array width\n",
      "\n",
      "# creates eorfreq array with freq values ranging from lowfreq to hifreq in intervals of stepfrq\n",
      "eorfreq = np.arange(lowfreq,hifreq,stepfreq)\n",
      "#Generates array of different frequencies in range defined by user\n",
      "\n",
      "# creates eortime array with time values ranging from time_start to time_end in intervals of time_step\n",
      "eortime = np.arange(time_start,time_end,time_step)\n",
      "#Generates array of different UT times in range defined by user"
     ],
     "language": "python",
     "metadata": {},
     "outputs": [],
     "prompt_number": 5
    },
    {
     "cell_type": "code",
     "collapsed": false,
     "input": [
      "\n",
      "#iterates trough each freq in eorfreq\n",
      "'''for f in eorfreq:\n",
      "    #checks if each freq is in between ri_start and ri_end\n",
      "    #if so, does nothing\n",
      "    #if not...\n",
      "\n",
      "    #if the freq is less at or below the lower bound of the \"ri\" range,\n",
      "    # fill the nth value of eorsig with 0.15, \n",
      "    # where we are currently looking at the nth freq in eorfreq\n",
      "    if f<=ri_start:\n",
      "        eorsig[f==eorfreq]=.15\n",
      "        \n",
      "    #if the freq is above the \"ri\" range,\n",
      "    # fill the nth value of erosig with 0.15*(1-num),\n",
      "    # where num is the ratio of the difference between the current freq and ri_start\n",
      "    # and the difference between the min and max of the ri range\n",
      "    # where we are currently looking at the nth freq in eorfreq\n",
      "    if f>ri_start:\n",
      "        if f< ri_stop:\n",
      "            eorsig[f==eorfreq]=.15-.15*(f-ri_start)/(ri_stop-ri_start)'''\n",
      "\n",
      "#Adds a simulated 21cm signal to the maps so as to better model real life\n",
      "#How is this a simulated 21cm signal...?!"
     ],
     "language": "python",
     "metadata": {},
     "outputs": [
      {
       "metadata": {},
       "output_type": "pyout",
       "prompt_number": 6,
       "text": [
        "'for f in eorfreq:\\n    #checks if each freq is in between ri_start and ri_end\\n    #if so, does nothing\\n    #if not...\\n\\n    #if the freq is less at or below the lower bound of the \"ri\" range,\\n    # fill the nth value of eorsig with 0.15, \\n    # where we are currently looking at the nth freq in eorfreq\\n    if f<=ri_start:\\n        eorsig[f==eorfreq]=.15\\n        \\n    #if the freq is above the \"ri\" range,\\n    # fill the nth value of erosig with 0.15*(1-num),\\n    # where num is the ratio of the difference between the current freq and ri_start\\n    # and the difference between the min and max of the ri range\\n    # where we are currently looking at the nth freq in eorfreq\\n    if f>ri_start:\\n        if f< ri_stop:\\n            eorsig[f==eorfreq]=.15-.15*(f-ri_start)/(ri_stop-ri_start)'"
       ]
      }
     ],
     "prompt_number": 6
    },
    {
     "cell_type": "code",
     "collapsed": false,
     "input": [
      "#principle components analysis\n",
      "#hmap408: hazlam map\n",
      "#get these values from gencomponents function...\n",
      "#\n",
      "cp1,cp2,cp3,cp4,hmap408 = st.gencomponents()"
     ],
     "language": "python",
     "metadata": {},
     "outputs": [],
     "prompt_number": 7
    },
    {
     "cell_type": "code",
     "collapsed": false,
     "input": [
      "print \"cp1:\", cp1 #Added for TestC\n",
      "print \"cp2:\", cp2\n",
      "print \"cp3:\", cp3\n",
      "print \"cp4\", cp4\n",
      "print \"hmap408:\", hmap408"
     ],
     "language": "python",
     "metadata": {},
     "outputs": [
      {
       "output_type": "stream",
       "stream": "stdout",
       "text": [
        "cp1: <scipy.interpolate.fitpack2.UnivariateSpline object at 0x7ff698e03250>\n",
        "cp2: <scipy.interpolate.fitpack2.UnivariateSpline object at 0x7ff698e9dc10>\n",
        "cp3: <scipy.interpolate.fitpack2.UnivariateSpline object at 0x7ff698e9d950>\n",
        "cp4 <scipy.interpolate.fitpack2.UnivariateSpline object at 0x7ff698ed1510>\n",
        "hmap408: [[ 0.278199 -0.201464 -0.009038]\n",
        " [ 0.270409 -0.195864 -0.008781]\n",
        " [ 0.25945  -0.187583 -0.008195]\n",
        " ..., \n",
        " [ 0.234598 -0.154753 -0.003999]\n",
        " [ 0.24072  -0.15894  -0.004075]\n",
        " [ 0.235899 -0.155878 -0.00392 ]]\n"
       ]
      }
     ],
     "prompt_number": 8
    },
    {
     "cell_type": "code",
     "collapsed": false,
     "input": [
      "manymaps32=[]\n",
      "#nside = 32\n",
      "#fills manymaps32 with 32bit per pixel maps at each defined frequency\n",
      "for i,freq in enumerate(eorfreq):\n",
      "    #manymaps32.append(makemap(freq))\n",
      "    manymaps32.append(st.makemap(freq,cp1,cp2,cp3,cp4,hmap408)+eorsig[i])\n",
      "    #manymaps32.append(makemap(freq, nside=nside))"
     ],
     "language": "python",
     "metadata": {},
     "outputs": [],
     "prompt_number": 9
    },
    {
     "cell_type": "code",
     "collapsed": false,
     "input": [
      "print manymaps32 #same as TestA-B"
     ],
     "language": "python",
     "metadata": {},
     "outputs": [
      {
       "output_type": "stream",
       "stream": "stdout",
       "text": [
        "[array([ 11.51125829,  11.18979272,  10.72943387, ...,   9.39584278,\n",
        "         9.64417338,   9.45365029]), array([ 11.39583799,  11.07759565,  10.62185546, ...,   9.30169242,\n",
        "         9.54753466,   9.35892119])]\n"
       ]
      }
     ],
     "prompt_number": 10
    },
    {
     "cell_type": "code",
     "collapsed": false,
     "input": [
      "#def timemaps(maps,fwhm_degrees, eortime):\n",
      "#    timemaps=[]\n",
      "#    for index in range(len(eortime)):\n",
      "#        #galactic to equitorial coordinates\n",
      "#        testmap=st.galmap2eqmap(maps) \n",
      "#        #equitorial to azimuthal coordinates\n",
      "#        testmap=st.eqmap2azelmap(testmap,ut=eortime[index])\n",
      "#        #ask what replace_with_earth does\n",
      "#        testmap=st.replace_with_earth(testmap) # none-smooth\n",
      "#        timemaps.append(hp.smoothing(testmap,np.radians(fwhm_degrees),regression=False ))\n",
      "#    return testmap"
     ],
     "language": "python",
     "metadata": {},
     "outputs": [],
     "prompt_number": 11
    },
    {
     "cell_type": "code",
     "collapsed": false,
     "input": [
      "maps = {}\n",
      "mapzenith = {}"
     ],
     "language": "python",
     "metadata": {},
     "outputs": [],
     "prompt_number": 12
    },
    {
     "cell_type": "code",
     "collapsed": false,
     "input": [
      "fwhm = 120\n",
      "#added for debug:\n",
      "#print eorfreq\n",
      "#print len(eorfreq)\n",
      "#print len(manymaps32)"
     ],
     "language": "python",
     "metadata": {},
     "outputs": [],
     "prompt_number": 13
    },
    {
     "cell_type": "code",
     "collapsed": false,
     "input": [
      "#identical output to TestA-B\n",
      "for i,freq in enumerate(eorfreq):\n",
      "    #added for debug:\n",
      "#    print i\n",
      "#    print freq\n",
      "#    print manymaps32[i]\n",
      "#    print len(manymaps32[i])\n",
      "#    print maps[str(freq)]\n",
      "#    print len(maps[str(freq)])\n",
      "    maps[str(freq)] = st.timemaps(manymaps32[i],fwhm,eortime)"
     ],
     "language": "python",
     "metadata": {},
     "outputs": [
      {
       "output_type": "stream",
       "stream": "stdout",
       "text": [
        "nside: 512\n",
        "outmap 1: [  2.17520503e-315   3.42937526e-316   0.00000000e+000 ...,\n",
        "   0.00000000e+000   0.00000000e+000   0.00000000e+000]\n",
        "pixlist[0]:"
       ]
      },
      {
       "output_type": "stream",
       "stream": "stdout",
       "text": [
        " 0\n",
        "htheta:"
       ]
      },
      {
       "output_type": "stream",
       "stream": "stdout",
       "text": [
        " [  1.59472005e-03   1.59472005e-03   1.59472005e-03 ...,   3.13999793e+00\n",
        "   3.13999793e+00   3.13999793e+00]\n",
        "dummy_hphi: [ 0.78539816  2.35619449  3.92699082 ...,  2.35619449  3.92699082\n",
        "  5.49778714]\n",
        "elevation: [ 1.56920161  1.56920161  1.56920161 ..., -1.56920161 -1.56920161\n",
        " -1.56920161]\n",
        "elcut*dtr: 0.0\n",
        "outmap element:"
       ]
      },
      {
       "output_type": "stream",
       "stream": "stdout",
       "text": [
        " [ 300.  300.  300. ...,  300.  300.  300.]\n",
        "outmap 2: [  2.17520503e-315   3.42937526e-316   0.00000000e+000 ...,\n",
        "   3.00000000e+002   3.00000000e+002   3.00000000e+002]\n",
        "Sigma is 3057.558481 arcmin (0.889408 rad) "
       ]
      },
      {
       "output_type": "stream",
       "stream": "stdout",
       "text": [
        "\n",
        "-> fwhm is 7200.000000 arcmin\n",
        "Sigma is 0.000000 arcmin (0.000000 rad) \n",
        "-> fwhm is 0.000000 arcmin\n",
        "nside:"
       ]
      },
      {
       "output_type": "stream",
       "stream": "stdout",
       "text": [
        " 512\n",
        "outmap 1: [  2.75148478e-316   1.37939895e-315   0.00000000e+000 ...,\n",
        "   0.00000000e+000   0.00000000e+000   0.00000000e+000]\n",
        "pixlist[0]:"
       ]
      },
      {
       "output_type": "stream",
       "stream": "stdout",
       "text": [
        " 0\n",
        "htheta:"
       ]
      },
      {
       "output_type": "stream",
       "stream": "stdout",
       "text": [
        " [  1.59472005e-03   1.59472005e-03   1.59472005e-03 ...,   3.13999793e+00\n",
        "   3.13999793e+00   3.13999793e+00]\n",
        "dummy_hphi: [ 0.78539816  2.35619449  3.92699082 ...,  2.35619449  3.92699082\n",
        "  5.49778714]\n",
        "elevation: [ 1.56920161  1.56920161  1.56920161 ..., -1.56920161 -1.56920161\n",
        " -1.56920161]\n",
        "elcut*dtr: 0.0\n",
        "outmap element: "
       ]
      },
      {
       "output_type": "stream",
       "stream": "stdout",
       "text": [
        "[ 300.  300.  300. ...,  300.  300.  300.]\n",
        "outmap 2: [  2.75148478e-316   1.37939895e-315   0.00000000e+000 ...,\n",
        "   3.00000000e+002   3.00000000e+002   3.00000000e+002]\n",
        "Sigma is 3057.558481 arcmin (0.889408 rad) "
       ]
      },
      {
       "output_type": "stream",
       "stream": "stdout",
       "text": [
        "\n",
        "-> fwhm is 7200.000000 arcmin\n",
        "Sigma is 0.000000 arcmin (0.000000 rad) \n",
        "-> fwhm is 0.000000 arcmin\n",
        "nside:"
       ]
      },
      {
       "output_type": "stream",
       "stream": "stdout",
       "text": [
        " 512\n",
        "outmap 1: [  2.65625738e-316   1.07092096e-315   0.00000000e+000 ...,\n",
        "   0.00000000e+000   0.00000000e+000   0.00000000e+000]\n",
        "pixlist[0]:"
       ]
      },
      {
       "output_type": "stream",
       "stream": "stdout",
       "text": [
        " 0\n",
        "htheta:"
       ]
      },
      {
       "output_type": "stream",
       "stream": "stdout",
       "text": [
        " [  1.59472005e-03   1.59472005e-03   1.59472005e-03 ...,   3.13999793e+00\n",
        "   3.13999793e+00   3.13999793e+00]\n",
        "dummy_hphi: [ 0.78539816  2.35619449  3.92699082 ...,  2.35619449  3.92699082\n",
        "  5.49778714]\n",
        "elevation: [ 1.56920161  1.56920161  1.56920161 ..., -1.56920161 -1.56920161\n",
        " -1.56920161]\n",
        "elcut*dtr: 0.0\n",
        "outmap element: [ 300.  300.  300. ...,  300.  300.  300.]\n",
        "outmap 2: [  2.65625738e-316   1.07092096e-315   0.00000000e+000 ...,\n",
        "   3.00000000e+002   3.00000000e+002   3.00000000e+002]\n",
        "Sigma is 3057.558481 arcmin (0.889408 rad) "
       ]
      },
      {
       "output_type": "stream",
       "stream": "stdout",
       "text": [
        "\n",
        "-> fwhm is 7200.000000 arcmin\n",
        "Sigma is 0.000000 arcmin (0.000000 rad) \n",
        "-> fwhm is 0.000000 arcmin\n",
        "nside:"
       ]
      },
      {
       "output_type": "stream",
       "stream": "stdout",
       "text": [
        " 512\n",
        "outmap 1: [  1.68433959e-315   6.95138327e-310   1.68433959e-315 ...,\n",
        "  -1.56920161e+000  -1.56920161e+000  -1.56920161e+000]\n",
        "pixlist[0]:"
       ]
      },
      {
       "output_type": "stream",
       "stream": "stdout",
       "text": [
        " 0\n",
        "htheta:"
       ]
      },
      {
       "output_type": "stream",
       "stream": "stdout",
       "text": [
        " [  1.59472005e-03   1.59472005e-03   1.59472005e-03 ...,   3.13999793e+00\n",
        "   3.13999793e+00   3.13999793e+00]\n",
        "dummy_hphi: [ 0.78539816  2.35619449  3.92699082 ...,  2.35619449  3.92699082\n",
        "  5.49778714]\n",
        "elevation: [ 1.56920161  1.56920161  1.56920161 ..., -1.56920161 -1.56920161\n",
        " -1.56920161]\n",
        "elcut*dtr: 0.0\n",
        "outmap element: [ 300.  300.  300. ...,  300.  300.  300.]\n",
        "outmap 2: [  1.68433959e-315   6.95138327e-310   1.68433959e-315 ...,\n",
        "   3.00000000e+002   3.00000000e+002   3.00000000e+002]\n",
        "Sigma is 3057.558481 arcmin (0.889408 rad) "
       ]
      },
      {
       "output_type": "stream",
       "stream": "stdout",
       "text": [
        "\n",
        "-> fwhm is 7200.000000 arcmin\n",
        "Sigma is 0.000000 arcmin (0.000000 rad) \n",
        "-> fwhm is 0.000000 arcmin\n",
        "nside:"
       ]
      },
      {
       "output_type": "stream",
       "stream": "stdout",
       "text": [
        " 512\n",
        "outmap 1: [  1.68433959e-315   6.95138327e-310   1.68433959e-315 ...,\n",
        "   2.61191914e-316   2.17519582e-315   2.17519570e-315]\n",
        "pixlist[0]:"
       ]
      },
      {
       "output_type": "stream",
       "stream": "stdout",
       "text": [
        " 0\n",
        "htheta:"
       ]
      },
      {
       "output_type": "stream",
       "stream": "stdout",
       "text": [
        " [  1.59472005e-03   1.59472005e-03   1.59472005e-03 ...,   3.13999793e+00\n",
        "   3.13999793e+00   3.13999793e+00]\n",
        "dummy_hphi: [ 0.78539816  2.35619449  3.92699082 ...,  2.35619449  3.92699082\n",
        "  5.49778714]\n",
        "elevation: [ 1.56920161  1.56920161  1.56920161 ..., -1.56920161 -1.56920161\n",
        " -1.56920161]\n",
        "elcut*dtr: 0.0\n",
        "outmap element: [ 300.  300.  300. ...,  300.  300.  300.]\n",
        "outmap 2: [  1.68433959e-315   6.95138327e-310   1.68433959e-315 ...,\n",
        "   3.00000000e+002   3.00000000e+002   3.00000000e+002]\n",
        "Sigma is 3057.558481 arcmin (0.889408 rad) "
       ]
      },
      {
       "output_type": "stream",
       "stream": "stdout",
       "text": [
        "\n",
        "-> fwhm is 7200.000000 arcmin\n",
        "Sigma is 0.000000 arcmin (0.000000 rad) \n",
        "-> fwhm is 0.000000 arcmin\n",
        "nside:"
       ]
      },
      {
       "output_type": "stream",
       "stream": "stdout",
       "text": [
        " 512\n",
        "outmap 1: [  2.72246692e-316   3.97167831e-316   0.00000000e+000 ...,\n",
        "   0.00000000e+000   0.00000000e+000   0.00000000e+000]\n",
        "pixlist[0]:"
       ]
      },
      {
       "output_type": "stream",
       "stream": "stdout",
       "text": [
        " 0\n",
        "htheta:"
       ]
      },
      {
       "output_type": "stream",
       "stream": "stdout",
       "text": [
        " [  1.59472005e-03   1.59472005e-03   1.59472005e-03 ...,   3.13999793e+00\n",
        "   3.13999793e+00   3.13999793e+00]\n",
        "dummy_hphi: [ 0.78539816  2.35619449  3.92699082 ...,  2.35619449  3.92699082\n",
        "  5.49778714]\n",
        "elevation: [ 1.56920161  1.56920161  1.56920161 ..., -1.56920161 -1.56920161\n",
        " -1.56920161]\n",
        "elcut*dtr: 0.0\n",
        "outmap element:"
       ]
      },
      {
       "output_type": "stream",
       "stream": "stdout",
       "text": [
        " [ 300.  300.  300. ...,  300.  300.  300.]\n",
        "outmap 2: [  2.72246692e-316   3.97167831e-316   0.00000000e+000 ...,\n",
        "   3.00000000e+002   3.00000000e+002   3.00000000e+002]\n",
        "Sigma is 3057.558481 arcmin (0.889408 rad) "
       ]
      },
      {
       "output_type": "stream",
       "stream": "stdout",
       "text": [
        "\n",
        "-> fwhm is 7200.000000 arcmin\n",
        "Sigma is 0.000000 arcmin (0.000000 rad) "
       ]
      },
      {
       "output_type": "stream",
       "stream": "stdout",
       "text": [
        "\n",
        "-> fwhm is 0.000000 arcmin\n"
       ]
      }
     ],
     "prompt_number": 14
    },
    {
     "cell_type": "code",
     "collapsed": false,
     "input": [
      "print maps #added for TestB - Different from TestB\n",
      "           #and TestA's later printing\n",
      "print eorfreq[1]"
     ],
     "language": "python",
     "metadata": {},
     "outputs": [
      {
       "output_type": "stream",
       "stream": "stdout",
       "text": [
        "{'260': array([  2.72246692e-316,   3.97167831e-316,   0.00000000e+000, ...,\n",
        "         3.00000000e+002,   3.00000000e+002,   3.00000000e+002]), '259': array([  2.65625738e-316,   1.07092096e-315,   0.00000000e+000, ...,\n",
        "         3.00000000e+002,   3.00000000e+002,   3.00000000e+002])}\n",
        "260\n"
       ]
      }
     ],
     "prompt_number": 15
    },
    {
     "cell_type": "code",
     "collapsed": false,
     "input": [
      "#Identical to TestA-B\n",
      "#print \"old_timemaps\", timemaps\n",
      "#testmap1 and testmap2 are predictably the same it appears\n",
      "#but testmap3 changes; randomized somehow within replace_with_earth\n",
      "timemaps = []\n",
      "print \"empty_timemaps\", timemaps\n",
      "count = 1\n",
      "fwhm_degrees = 120\n",
      "for index in range(len(eortime)):\n",
      "    testmap=st.galmap2eqmap(manymaps32[count])\n",
      "    print \"testmap1:\", testmap\n",
      "    testmap=st.eqmap2azelmap(testmap,ut=eortime[index])\n",
      "    print \"testmap2:\", testmap\n",
      "    #testmap=st.replace_with_earth(testmap)\n",
      "    print \"testmap3:\", testmap\n",
      "    timemaps.append(hp.smoothing(testmap,np.radians(fwhm_degrees),regression=False))\n",
      "    print timemaps"
     ],
     "language": "python",
     "metadata": {},
     "outputs": [
      {
       "output_type": "stream",
       "stream": "stdout",
       "text": [
        "empty_timemaps []\n",
        "testmap1:"
       ]
      },
      {
       "output_type": "stream",
       "stream": "stdout",
       "text": [
        " [ 72.1201182   72.46021592  70.76989156 ...,   0.          65.99751941\n",
        "  67.30116129]\n",
        "testmap2:"
       ]
      },
      {
       "output_type": "stream",
       "stream": "stdout",
       "text": [
        " [ 34.17880064  33.77438578  33.34175831 ...,   0.          71.23514017\n",
        "  71.71415631]\n",
        "testmap3: [ 34.17880064  33.77438578  33.34175831 ...,   0.          71.23514017\n",
        "  71.71415631]\n",
        "Sigma is 3057.558481 arcmin (0.889408 rad) "
       ]
      },
      {
       "output_type": "stream",
       "stream": "stdout",
       "text": [
        "\n",
        "-> fwhm is 7200.000000 arcmin\n",
        "Sigma is 0.000000 arcmin (0.000000 rad) "
       ]
      },
      {
       "output_type": "stream",
       "stream": "stdout",
       "text": [
        "\n",
        "-> fwhm is 0.000000 arcmin\n",
        "[array([  70.90365514,   70.89256449,   70.87538699, ...,  108.82379244,\n",
        "        108.73726711,  108.74254225])]"
       ]
      },
      {
       "output_type": "stream",
       "stream": "stdout",
       "text": [
        "\n",
        "testmap1:"
       ]
      },
      {
       "output_type": "stream",
       "stream": "stdout",
       "text": [
        " [ 72.1201182   72.46021592  70.76989156 ...,   0.          65.99751941\n",
        "  67.30116129]\n",
        "testmap2:"
       ]
      },
      {
       "output_type": "stream",
       "stream": "stdout",
       "text": [
        " [ 41.02585253  40.98962389  40.37824657 ...,  54.07963124  54.11768471\n",
        "  54.06477378]\n",
        "testmap3: [ 41.02585253  40.98962389  40.37824657 ...,  54.07963124  54.11768471\n",
        "  54.06477378]\n",
        "Sigma is 3057.558481 arcmin (0.889408 rad) "
       ]
      },
      {
       "output_type": "stream",
       "stream": "stdout",
       "text": [
        "\n",
        "-> fwhm is 7200.000000 arcmin\n",
        "Sigma is 0.000000 arcmin (0.000000 rad) "
       ]
      },
      {
       "output_type": "stream",
       "stream": "stdout",
       "text": [
        "\n",
        "-> fwhm is 0.000000 arcmin\n",
        "[array([  70.90365514,   70.89256449,   70.87538699, ...,  108.82379244,\n",
        "        108.73726711,  108.74254225]), array([  73.19188214,   73.18570225,   73.15491868, ...,  100.45616704,\n",
        "        100.3687975 ,  100.36298124])]"
       ]
      },
      {
       "output_type": "stream",
       "stream": "stdout",
       "text": [
        "\n",
        "testmap1:"
       ]
      },
      {
       "output_type": "stream",
       "stream": "stdout",
       "text": [
        " [ 72.1201182   72.46021592  70.76989156 ...,   0.          65.99751941\n",
        "  67.30116129]\n",
        "testmap2:"
       ]
      },
      {
       "output_type": "stream",
       "stream": "stdout",
       "text": [
        " [ 58.46350195  57.99258923  56.90501276 ...,  56.86885444  57.63607301\n",
        "  57.81035287]\n",
        "testmap3: [ 58.46350195  57.99258923  56.90501276 ...,  56.86885444  57.63607301\n",
        "  57.81035287]\n",
        "Sigma is 3057.558481 arcmin (0.889408 rad) "
       ]
      },
      {
       "output_type": "stream",
       "stream": "stdout",
       "text": [
        "\n",
        "-> fwhm is 7200.000000 arcmin\n",
        "Sigma is 0.000000 arcmin (0.000000 rad) \n",
        "-> fwhm is 0.000000 arcmin\n",
        "[array([  70.90365514,   70.89256449,   70.87538699, ...,  108.82379244,\n",
        "        108.73726711,  108.74254225]), array([  73.19188214,   73.18570225,   73.15491868, ...,  100.45616704,\n",
        "        100.3687975 ,  100.36298124]), array([ 76.83686856,  76.8388228 ,  76.79347249, ...,  92.43482585,\n",
        "        92.35537047,  92.33955691])]"
       ]
      },
      {
       "output_type": "stream",
       "stream": "stdout",
       "text": [
        "\n"
       ]
      }
     ],
     "prompt_number": 16
    },
    {
     "cell_type": "code",
     "collapsed": false,
     "input": [
      "#Identical to TestA-B\n",
      "#TestC2: Reran, now different from TestA-C1\n",
      "print timemaps"
     ],
     "language": "python",
     "metadata": {},
     "outputs": [
      {
       "output_type": "stream",
       "stream": "stdout",
       "text": [
        "[array([  70.90365514,   70.89256449,   70.87538699, ...,  108.82379244,\n",
        "        108.73726711,  108.74254225]), array([  73.19188214,   73.18570225,   73.15491868, ...,  100.45616704,\n",
        "        100.3687975 ,  100.36298124]), array([ 76.83686856,  76.8388228 ,  76.79347249, ...,  92.43482585,\n",
        "        92.35537047,  92.33955691])]\n"
       ]
      }
     ],
     "prompt_number": 17
    },
    {
     "cell_type": "code",
     "collapsed": false,
     "input": [
      "#Identical to TestA-B\n",
      "#TestC2: Reran, now different from TestA-C1\n",
      "timemap_zenith = []\n",
      "for index in range(len(timemaps)):\n",
      "    timemap_index = timemaps[index]\n",
      "    print timemap_index\n",
      "    timemap_zenith.append(timemap_index[0])\n",
      "    print timemap_index[0]"
     ],
     "language": "python",
     "metadata": {},
     "outputs": [
      {
       "output_type": "stream",
       "stream": "stdout",
       "text": [
        "[  70.90365514   70.89256449   70.87538699 ...,  108.82379244  108.73726711\n",
        "  108.74254225]\n",
        "70.9036551418\n",
        "[  73.19188214   73.18570225   73.15491868 ...,  100.45616704  100.3687975\n",
        "  100.36298124]\n",
        "73.1918821364\n",
        "[ 76.83686856  76.8388228   76.79347249 ...,  92.43482585  92.35537047\n",
        "  92.33955691]\n",
        "76.8368685591\n"
       ]
      }
     ],
     "prompt_number": 18
    },
    {
     "cell_type": "code",
     "collapsed": false,
     "input": [
      "#Identical to TestA-B\n",
      "#TestC2: Reran, now different from TestA-C1\n",
      "print timemaps\n",
      "print timemap_zenith\n",
      "print eortime"
     ],
     "language": "python",
     "metadata": {},
     "outputs": [
      {
       "output_type": "stream",
       "stream": "stdout",
       "text": [
        "[array([  70.90365514,   70.89256449,   70.87538699, ...,  108.82379244,\n",
        "        108.73726711,  108.74254225]), array([  73.19188214,   73.18570225,   73.15491868, ...,  100.45616704,\n",
        "        100.3687975 ,  100.36298124]), array([ 76.83686856,  76.8388228 ,  76.79347249, ...,  92.43482585,\n",
        "        92.35537047,  92.33955691])]\n",
        "[70.90365514177536, 73.191882136360647, 76.83686855905114]\n",
        "[0 1 2]"
       ]
      },
      {
       "output_type": "stream",
       "stream": "stdout",
       "text": [
        "\n"
       ]
      }
     ],
     "prompt_number": 19
    },
    {
     "cell_type": "code",
     "collapsed": false,
     "input": [
      "#Identical to TestA-B\n",
      "#TestC2: Reran, now different from TestA-C1\n",
      "pl.figure()\n",
      "pl.plot(eortime, timemap_zenith)\n",
      "pl.title('SB Zenith at ' +str(eorfreq[count])+'MHz, '+str(fwhm_degrees)+ ' degree Antenna FWHM')\n",
      "pl.xlabel('Time (UT)')\n",
      "pl.ylabel('Antenna Temperature (K)')\n",
      "pl.savefig(str(eorfreq[count])+'mhz_sb_zenith_overtime_'+str(fwhm_degrees)+'deg.png')\n",
      "pl.show()"
     ],
     "language": "python",
     "metadata": {},
     "outputs": [],
     "prompt_number": 20
    },
    {
     "cell_type": "code",
     "collapsed": false,
     "input": [
      "#TestC2: Reran, now different from TestA-C1\n",
      "hp.mollview(timemaps[2], title='Location: Santa Barbara, Frequency:'+str(eorfreq[count])+'MHz, Time:'+str(eortime[2])+'UT, FWHM= '+str(fwhm_degrees)+' deg',unit=str('Antenna Temperature (K)'))\n",
      "pl.savefig(str(eorfreq[count])+'mhz_sbmap_'+str(fwhm_degrees)+'deg.png')"
     ],
     "language": "python",
     "metadata": {},
     "outputs": [],
     "prompt_number": 29
    },
    {
     "cell_type": "code",
     "collapsed": false,
     "input": [
      "#Different from TestA-B\n",
      "#TestC2: Reran, identical to C1\n",
      "print maps\n",
      "print eortime\n",
      "def rotatemaps(maps,eortime):\n",
      "    for time in eortime:\n",
      "            rmap=galmap2eqmap(maps)\n",
      "            print rmap\n",
      "            rmap=eqmap2azelmap(rmap,ut=time)\n",
      "            print rmap\n",
      "            #rmap=replace_with_earth(rmap)\n",
      "            print rmap\n",
      "            zenith.append(rmap[0]) #WARNING: Zenith not defined anywhere\n",
      "            print zenith\n",
      "    return rmap\n",
      "#Rotates map with default set to Santa Barbara. Tracks map over time.\n",
      "#Also outputs to a dictionary the zenith point of every map "
     ],
     "language": "python",
     "metadata": {},
     "outputs": [
      {
       "output_type": "stream",
       "stream": "stdout",
       "text": [
        "{'260': array([  2.72246692e-316,   3.97167831e-316,   0.00000000e+000, ...,\n",
        "         3.00000000e+002,   3.00000000e+002,   3.00000000e+002]), '259': array([  2.65625738e-316,   1.07092096e-315,   0.00000000e+000, ...,\n",
        "         3.00000000e+002,   3.00000000e+002,   3.00000000e+002])}\n",
        "[0 1 2]\n"
       ]
      }
     ],
     "prompt_number": 22
    },
    {
     "cell_type": "code",
     "collapsed": false,
     "input": [
      "pixaz=np.zeros(datalen,dtype=np.integer)\n",
      "for i,el in enumerate(np.arange(min_el,max_el)):\n",
      "    pixaz[i]=hp.ang2pix(32,np.pi/2. - el*dtr,fixed_az*dtr) "
     ],
     "language": "python",
     "metadata": {},
     "outputs": [],
     "prompt_number": 23
    },
    {
     "cell_type": "code",
     "collapsed": false,
     "input": [
      "spec=np.zeros([speclen,datalen])\n",
      "for j in range(speclen):\n",
      "    for i,pix in enumerate(pixaz):\n",
      "        spec[j,i]=manymaps32[j][pix]"
     ],
     "language": "python",
     "metadata": {},
     "outputs": [],
     "prompt_number": 24
    },
    {
     "cell_type": "code",
     "collapsed": false,
     "input": [
      "plt.pcolormesh(spec)"
     ],
     "language": "python",
     "metadata": {},
     "outputs": [
      {
       "metadata": {},
       "output_type": "pyout",
       "prompt_number": 30,
       "text": [
        "<matplotlib.collections.QuadMesh at 0x7ff679d46bd0>"
       ]
      }
     ],
     "prompt_number": 30
    },
    {
     "cell_type": "code",
     "collapsed": false,
     "input": [
      "#take the first difference along each of the returned spectra\n",
      "dspec=copy.copy(spec)\n",
      "dspec[1:,:]=np.diff(spec,axis=0)\n",
      "dspec[0,:]=dspec[1,:]"
     ],
     "language": "python",
     "metadata": {},
     "outputs": [],
     "prompt_number": 26
    },
    {
     "cell_type": "code",
     "collapsed": false,
     "input": [
      "#fit to a power law (linear fit after the log)\n",
      "dpowlawmodel=np.zeros([speclen,datalen])\n",
      "for i in range(datalen):\n",
      "    (ar,br)=np.polyfit(eorfreq,log(0.-dspec[:,i]),1)\n",
      "    dpowlawmodel[:,i]=0.-e**polyval([ar,br],eorfreq)"
     ],
     "language": "python",
     "metadata": {},
     "outputs": [],
     "prompt_number": 27
    },
    {
     "cell_type": "code",
     "collapsed": false,
     "input": [
      "#ff=open('jnk.pkl','wb')\n",
      "#cPickle.dump(a,ff)\n",
      "#ff.close()\n",
      "#g=open('jnk.pkl','rb')\n",
      "#b=cPickle.load(g)\n",
      "#g.close()"
     ],
     "language": "python",
     "metadata": {},
     "outputs": [],
     "prompt_number": 28
    },
    {
     "cell_type": "code",
     "collapsed": false,
     "input": [],
     "language": "python",
     "metadata": {},
     "outputs": [],
     "prompt_number": 28
    }
   ],
   "metadata": {}
  }
 ]
}
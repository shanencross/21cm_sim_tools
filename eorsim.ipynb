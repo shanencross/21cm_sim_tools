{
 "metadata": {
  "name": "",
  "signature": "sha256:086ae272b40d5291244db23a381fff61288ff8eaaf20371a7109b96a42fb6dfa"
 },
 "nbformat": 3,
 "nbformat_minor": 0,
 "worksheets": [
  {
   "cells": [
    {
     "cell_type": "code",
     "collapsed": false,
     "input": [
      "cd /home/shanen/Documents/Programming/21cm_sim_tools"
     ],
     "language": "python",
     "metadata": {},
     "outputs": [
      {
       "output_type": "stream",
       "stream": "stdout",
       "text": [
        "/home/shanen/Documents/Programming/21cm_sim_tools\n"
       ]
      }
     ],
     "prompt_number": 1
    },
    {
     "cell_type": "code",
     "collapsed": false,
     "input": [
      "\n",
      "#import needed modules\n",
      "import numpy as np\n",
      "import pyfits as pyfits\n",
      "import ephem \n",
      "from glob import glob\n",
      "from matplotlib import mlab\n",
      "import time\n",
      "import copy\n",
      "import quaternion as quat\n",
      "import healpy as hp\n",
      "import numexpr\n",
      "import pylab as pl\n",
      "import scipy.interpolate as sp\n",
      "import simtools as st\n",
      "\n",
      "import matplotlib.pyplot as plt #added to make pcolormesh work\n",
      "\n",
      "#apparently, this makes it so that writing function_name is the same as writing function_name() \n",
      "#and that writing function_name parameter is the same as writing function_name(parameter)\n",
      "%autocall 2\n",
      "#from simtools import gencomponents"
     ],
     "language": "python",
     "metadata": {},
     "outputs": [
      {
       "output_type": "stream",
       "stream": "stdout",
       "text": [
        "Automatic calling is: Full\n"
       ]
      }
     ],
     "prompt_number": 2
    },
    {
     "cell_type": "code",
     "collapsed": false,
     "input": [
      "#reloads and reexcutes code for simtools\n",
      "#...but no changes have been made to simtools since import, so possibly redundant?\n",
      "reload(st)"
     ],
     "language": "python",
     "metadata": {},
     "outputs": [
      {
       "metadata": {},
       "output_type": "pyout",
       "prompt_number": 3,
       "text": [
        "<module 'simtools' from 'simtools.pyc'>"
       ]
      }
     ],
     "prompt_number": 3
    },
    {
     "cell_type": "code",
     "collapsed": false,
     "input": [
      "#define a bunch of values for \"constants\"\n",
      "\n",
      "#don't know what this is - unused so far\n",
      "second_jul = 0.1 / 8640 \n",
      "# pi\n",
      "pi = np.pi \n",
      "# factor for converting from radians to degrees - unused so far\n",
      "rtd=180/np.pi\n",
      "# factor for converting form degrees to radians - unused so far\n",
      "dtr=np.pi/180\n",
      "# lower bound of frequences used in eorfreq array - used\n",
      "lowfreq=259\n",
      "# upper bound of frequencies used in eorfreq array - used\n",
      "hifreq=261 \n",
      "# interval between freq elements in eorfreq array - used\n",
      "stepfreq=1 \n",
      "# some sort of lower frequency bound to which freqs in eorfreq array are compared - used\n",
      "ri_start=150\n",
      "# some sort of upper frequency bound to which freqs in eorfreq array are compared - used\n",
      "ri_stop=160 \n",
      "# don't now what this is - used\n",
      "fixed_az=60. #degrees\n",
      "# don't know what this is, some lower degree bound - used\n",
      "min_el=-60. #degrees \n",
      "# don't know what this is, some upper degree bound - used\n",
      "max_el=60.  #degrees \n",
      "# the difference between max_el and min_el converted into an integral - used\n",
      "# presumably the length for some sort of array which will contain values from min_el to max_el?\n",
      "datalen=np.int(max_el-min_el) #just use integral number of degrees, 1 per step, for now'''\n",
      "# upper bound of times used in eortime array\n",
      "time_start = 0\n",
      "# lower bound of times used in eortime array\n",
      "time_end = 3\n",
      "#interval between time elements in eortime array\n",
      "time_step = 1"
     ],
     "language": "python",
     "metadata": {},
     "outputs": [],
     "prompt_number": 4
    },
    {
     "cell_type": "code",
     "collapsed": false,
     "input": [
      "# length of eorsig array - difference of hifreq and lowfreq, divided by freq interval length, converted into int - used\n",
      "speclen = np.int((hifreq-lowfreq)/stepfreq)\n",
      "#generates the number of points used\n",
      "\n",
      "# creates eorsig array filled with 0s of length \"speclen\"\n",
      "eorsig = np.zeros(speclen)\n",
      "#generates array width\n",
      "\n",
      "# creates eorfreq array with freq values ranging from lowfreq to hifreq in intervals of stepfrq\n",
      "eorfreq = np.arange(lowfreq,hifreq,stepfreq)\n",
      "#Generates array of different frequencies in range defined by user\n",
      "\n",
      "# creates eortime array with time values ranging from time_start to time_end in intervals of time_step\n",
      "eortime = np.arange(time_start,time_end,time_step)\n",
      "#Generates array of different UT times in range defined by user"
     ],
     "language": "python",
     "metadata": {},
     "outputs": [],
     "prompt_number": 5
    },
    {
     "cell_type": "code",
     "collapsed": false,
     "input": [
      "\n",
      "#iterates trough each freq in eorfreq\n",
      "'''for f in eorfreq:\n",
      "    #checks if each freq is in between ri_start and ri_end\n",
      "    #if so, does nothing\n",
      "    #if not...\n",
      "\n",
      "    #if the freq is less at or below the lower bound of the \"ri\" range,\n",
      "    # fill the nth value of eorsig with 0.15, \n",
      "    # where we are currently looking at the nth freq in eorfreq\n",
      "    if f<=ri_start:\n",
      "        eorsig[f==eorfreq]=.15\n",
      "        \n",
      "    #if the freq is above the \"ri\" range,\n",
      "    # fill the nth value of erosig with 0.15*(1-num),\n",
      "    # where num is the ratio of the difference between the current freq and ri_start\n",
      "    # and the difference between the min and max of the ri range\n",
      "    # where we are currently looking at the nth freq in eorfreq\n",
      "    if f>ri_start:\n",
      "        if f< ri_stop:\n",
      "            eorsig[f==eorfreq]=.15-.15*(f-ri_start)/(ri_stop-ri_start)'''\n",
      "\n",
      "#Adds a simulated 21cm signal to the maps so as to better model real life\n",
      "#How is this a simulated 21cm signal...?!"
     ],
     "language": "python",
     "metadata": {},
     "outputs": [
      {
       "metadata": {},
       "output_type": "pyout",
       "prompt_number": 6,
       "text": [
        "'for f in eorfreq:\\n    #checks if each freq is in between ri_start and ri_end\\n    #if so, does nothing\\n    #if not...\\n\\n    #if the freq is less at or below the lower bound of the \"ri\" range,\\n    # fill the nth value of eorsig with 0.15, \\n    # where we are currently looking at the nth freq in eorfreq\\n    if f<=ri_start:\\n        eorsig[f==eorfreq]=.15\\n        \\n    #if the freq is above the \"ri\" range,\\n    # fill the nth value of erosig with 0.15*(1-num),\\n    # where num is the ratio of the difference between the current freq and ri_start\\n    # and the difference between the min and max of the ri range\\n    # where we are currently looking at the nth freq in eorfreq\\n    if f>ri_start:\\n        if f< ri_stop:\\n            eorsig[f==eorfreq]=.15-.15*(f-ri_start)/(ri_stop-ri_start)'"
       ]
      }
     ],
     "prompt_number": 6
    },
    {
     "cell_type": "code",
     "collapsed": false,
     "input": [
      "#principle components analysis\n",
      "#hmap408: hazlam map\n",
      "#get these values from gencomponents function...\n",
      "#\n",
      "cp1,cp2,cp3,cp4,hmap408 = st.gencomponents()"
     ],
     "language": "python",
     "metadata": {},
     "outputs": [],
     "prompt_number": 7
    },
    {
     "cell_type": "code",
     "collapsed": false,
     "input": [
      "manymaps32=[]\n",
      "#nside = 32\n",
      "#fills manymaps32 with 32bit per pixel maps at each defined frequency\n",
      "for i,freq in enumerate(eorfreq):\n",
      "    #manymaps32.append(makemap(freq))\n",
      "    manymaps32.append(st.makemap(freq,cp1,cp2,cp3,cp4,hmap408)+eorsig[i])\n",
      "    #manymaps32.append(makemap(freq, nside=nside))"
     ],
     "language": "python",
     "metadata": {},
     "outputs": [],
     "prompt_number": 8
    },
    {
     "cell_type": "code",
     "collapsed": false,
     "input": [
      "def timemaps(maps,fwhm_degrees, eortime):\n",
      "    timemaps=[]\n",
      "    for index in range(len(eortime)):\n",
      "        #galactic to equitorial coordinates\n",
      "        testmap=st.galmap2eqmap(maps) \n",
      "        #equitorial to azimuthal coordinates\n",
      "        testmap=st.eqmap2azelmap(testmap,ut=eortime[index])\n",
      "        #ask what replace_with_earth does\n",
      "        testmap=st.replace_with_earth(testmap) # none-smooth\n",
      "        timemaps.append(hp.smoothing(testmap,np.radians(fwhm_degrees),regression=False ))\n",
      "    return testmap"
     ],
     "language": "python",
     "metadata": {},
     "outputs": [],
     "prompt_number": 9
    },
    {
     "cell_type": "code",
     "collapsed": false,
     "input": [
      "maps = {}\n",
      "mapzenith = {}"
     ],
     "language": "python",
     "metadata": {},
     "outputs": [],
     "prompt_number": 10
    },
    {
     "cell_type": "code",
     "collapsed": false,
     "input": [
      "fwhm = 120\n",
      "#added for debug:\n",
      "#print eorfreq\n",
      "#print len(eorfreq)\n",
      "#print len(manymaps32)"
     ],
     "language": "python",
     "metadata": {},
     "outputs": [],
     "prompt_number": 11
    },
    {
     "cell_type": "code",
     "collapsed": false,
     "input": [
      "for i,freq in enumerate(eorfreq):\n",
      "    #added for debug:\n",
      "#    print i\n",
      "#    print freq\n",
      "#    print manymaps32[i]\n",
      "#    print len(manymaps32[i])\n",
      "#    print maps[str(freq)]\n",
      "#    print len(maps[str(freq)])\n",
      "    maps[str(freq)] = st.timemaps(manymaps32[i],fwhm,eortime)"
     ],
     "language": "python",
     "metadata": {},
     "outputs": []
    },
    {
     "cell_type": "code",
     "collapsed": false,
     "input": [
      "print eorfreq[1]"
     ],
     "language": "python",
     "metadata": {},
     "outputs": [
      {
       "output_type": "stream",
       "stream": "stdout",
       "text": [
        "260\n"
       ]
      }
     ],
     "prompt_number": 13
    },
    {
     "cell_type": "code",
     "collapsed": false,
     "input": [
      "timemaps = []\n",
      "count = 1\n",
      "fwhm_degrees = 120\n",
      "for index in range(len(eortime)):\n",
      "    testmap=st.galmap2eqmap(manymaps32[count])\n",
      "    testmap=st.eqmap2azelmap(testmap,ut=eortime[index])\n",
      "    testmap=st.replace_with_earth(testmap)\n",
      "    timemaps.append(hp.smoothing(testmap,np.radians(fwhm_degrees),regression=False))"
     ],
     "language": "python",
     "metadata": {},
     "outputs": [
      {
       "output_type": "stream",
       "stream": "stdout",
       "text": [
        "Sigma is 3057.558481 arcmin (0.889408 rad) \n",
        "-> fwhm is 7200.000000 arcmin\n",
        "Sigma is 0.000000 arcmin (0.000000 rad) \n",
        "-> fwhm is 0.000000 arcmin\n",
        "Sigma is 3057.558481 arcmin (0.889408 rad) "
       ]
      },
      {
       "output_type": "stream",
       "stream": "stdout",
       "text": [
        "\n",
        "-> fwhm is 7200.000000 arcmin\n",
        "Sigma is 0.000000 arcmin (0.000000 rad) \n",
        "-> fwhm is 0.000000 arcmin\n",
        "Sigma is 3057.558481 arcmin (0.889408 rad) "
       ]
      },
      {
       "output_type": "stream",
       "stream": "stdout",
       "text": [
        "\n",
        "-> fwhm is 7200.000000 arcmin\n",
        "Sigma is 0.000000 arcmin (0.000000 rad) \n",
        "-> fwhm is 0.000000 arcmin\n"
       ]
      }
     ],
     "prompt_number": 15
    },
    {
     "cell_type": "code",
     "collapsed": false,
     "input": [
      "pl.figure()\n",
      "pl.plot(eortime, timemap_zenith)\n",
      "pl.title('SB Zenith at ' +str(eorfreq[count])+'MHz, '+str(fwhm_degrees)+ ' degree Antenna FWHM')\n",
      "pl.xlabel('Time (UT)')\n",
      "pl.ylabel('Antenna Temperature (K)')\n",
      "pl.savefig(str(eorfreq[count])+'mhz_sb_zenith_overtime_'+str(fwhm_degrees)+'deg.png')\n",
      "pl.show()"
     ],
     "language": "python",
     "metadata": {},
     "outputs": [],
     "prompt_number": 18
    },
    {
     "cell_type": "code",
     "collapsed": false,
     "input": [
      "timemap_zenith = []\n",
      "for index in range(len(timemaps)):\n",
      "    timemap_index = timemaps[index]\n",
      "    timemap_zenith.append(timemap_index[0])"
     ],
     "language": "python",
     "metadata": {},
     "outputs": [],
     "prompt_number": 16
    },
    {
     "cell_type": "code",
     "collapsed": false,
     "input": [
      "hp.mollview(timemaps[2], title='Location: Santa Barbara, Frequency:'+str(eorfreq[count])+'MHz, Time:'+str(eortime[2])+'UT, FWHM= '+str(fwhm_degrees)+' deg',unit=str('Antenna Temperature (K)'))\n",
      "pl.savefig(str(eorfreq[count])+'mhz_sbmap_'+str(fwhm_degrees)+'deg.png')"
     ],
     "language": "python",
     "metadata": {},
     "outputs": [],
     "prompt_number": 20
    },
    {
     "cell_type": "code",
     "collapsed": false,
     "input": [
      "def rotatemaps(maps,eortime):\n",
      "    for time in eortime:\n",
      "            rmap=galmap2eqmap(maps)\n",
      "            rmap=eqmap2azelmap(rmap,ut=time)\n",
      "            rmap=replace_with_earth(rmap)\n",
      "            zenith.append(rmap[0])\n",
      "    return rmap\n",
      "#Rotates map with default set to Santa Barbara. Tracks map over time.\n",
      "#Also outputs to a dictionary the zenith point of every map "
     ],
     "language": "python",
     "metadata": {},
     "outputs": [],
     "prompt_number": 21
    },
    {
     "cell_type": "code",
     "collapsed": false,
     "input": [
      "pixaz=np.zeros(datalen,dtype=np.integer)\n",
      "for i,el in enumerate(np.arange(min_el,max_el)):\n",
      "    pixaz[i]=hp.ang2pix(32,np.pi/2. - el*dtr,fixed_az*dtr) "
     ],
     "language": "python",
     "metadata": {},
     "outputs": [],
     "prompt_number": 22
    },
    {
     "cell_type": "code",
     "collapsed": false,
     "input": [
      "spec=np.zeros([speclen,datalen])\n",
      "for j in range(speclen):\n",
      "    for i,pix in enumerate(pixaz):\n",
      "        spec[j,i]=manymaps32[j][pix]"
     ],
     "language": "python",
     "metadata": {},
     "outputs": [],
     "prompt_number": 23
    },
    {
     "cell_type": "code",
     "collapsed": false,
     "input": [
      "plt.pcolormesh(spec)"
     ],
     "language": "python",
     "metadata": {},
     "outputs": [
      {
       "metadata": {},
       "output_type": "pyout",
       "prompt_number": 24,
       "text": [
        "<matplotlib.collections.QuadMesh at 0x7f3445934250>"
       ]
      }
     ],
     "prompt_number": 24
    },
    {
     "cell_type": "code",
     "collapsed": false,
     "input": [
      "#take the first difference along each of the returned spectra\n",
      "dspec=copy(spec)\n",
      "dspec[1:,:]=np.diff(spec,axis=0)\n",
      "dspec[0,:]=dspec[1,:]"
     ],
     "language": "python",
     "metadata": {},
     "outputs": [
      {
       "ename": "TypeError",
       "evalue": "'module' object is not callable",
       "output_type": "pyerr",
       "traceback": [
        "\u001b[1;31m---------------------------------------------------------------------------\u001b[0m\n\u001b[1;31mTypeError\u001b[0m                                 Traceback (most recent call last)",
        "\u001b[1;32m<ipython-input-25-6991c8645080>\u001b[0m in \u001b[0;36m<module>\u001b[1;34m()\u001b[0m\n\u001b[0;32m      1\u001b[0m \u001b[1;31m#take the first difference along each of the returned spectra\u001b[0m\u001b[1;33m\u001b[0m\u001b[1;33m\u001b[0m\u001b[0m\n\u001b[1;32m----> 2\u001b[1;33m \u001b[0mdspec\u001b[0m\u001b[1;33m=\u001b[0m\u001b[0mcopy\u001b[0m\u001b[1;33m(\u001b[0m\u001b[0mspec\u001b[0m\u001b[1;33m)\u001b[0m\u001b[1;33m\u001b[0m\u001b[0m\n\u001b[0m\u001b[0;32m      3\u001b[0m \u001b[0mdspec\u001b[0m\u001b[1;33m[\u001b[0m\u001b[1;36m1\u001b[0m\u001b[1;33m:\u001b[0m\u001b[1;33m,\u001b[0m\u001b[1;33m:\u001b[0m\u001b[1;33m]\u001b[0m\u001b[1;33m=\u001b[0m\u001b[0mnp\u001b[0m\u001b[1;33m.\u001b[0m\u001b[0mdiff\u001b[0m\u001b[1;33m(\u001b[0m\u001b[0mspec\u001b[0m\u001b[1;33m,\u001b[0m\u001b[0maxis\u001b[0m\u001b[1;33m=\u001b[0m\u001b[1;36m0\u001b[0m\u001b[1;33m)\u001b[0m\u001b[1;33m\u001b[0m\u001b[0m\n\u001b[0;32m      4\u001b[0m \u001b[0mdspec\u001b[0m\u001b[1;33m[\u001b[0m\u001b[1;36m0\u001b[0m\u001b[1;33m,\u001b[0m\u001b[1;33m:\u001b[0m\u001b[1;33m]\u001b[0m\u001b[1;33m=\u001b[0m\u001b[0mdspec\u001b[0m\u001b[1;33m[\u001b[0m\u001b[1;36m1\u001b[0m\u001b[1;33m,\u001b[0m\u001b[1;33m:\u001b[0m\u001b[1;33m]\u001b[0m\u001b[1;33m\u001b[0m\u001b[0m\n",
        "\u001b[1;31mTypeError\u001b[0m: 'module' object is not callable"
       ]
      }
     ],
     "prompt_number": 25
    },
    {
     "cell_type": "code",
     "collapsed": false,
     "input": [
      "#fit to a power law (linear fit after the log)\n",
      "dpowlawmodel=np.zeros([speclen,datalen])\n",
      "for i in range(datalen):\n",
      "    (ar,br)=polyfit(eorfreq,log(0.-dspec[:,i]),1)\n",
      "    dpowlawmodel[:,i]=0.-e**polyval([ar,br],eorfreq)"
     ],
     "language": "python",
     "metadata": {},
     "outputs": [
      {
       "ename": "NameError",
       "evalue": "name 'polyfit' is not defined",
       "output_type": "pyerr",
       "traceback": [
        "\u001b[1;31m---------------------------------------------------------------------------\u001b[0m\n\u001b[1;31mNameError\u001b[0m                                 Traceback (most recent call last)",
        "\u001b[1;32m<ipython-input-26-4695e9e301d1>\u001b[0m in \u001b[0;36m<module>\u001b[1;34m()\u001b[0m\n\u001b[0;32m      2\u001b[0m \u001b[0mdpowlawmodel\u001b[0m\u001b[1;33m=\u001b[0m\u001b[0mnp\u001b[0m\u001b[1;33m.\u001b[0m\u001b[0mzeros\u001b[0m\u001b[1;33m(\u001b[0m\u001b[1;33m[\u001b[0m\u001b[0mspeclen\u001b[0m\u001b[1;33m,\u001b[0m\u001b[0mdatalen\u001b[0m\u001b[1;33m]\u001b[0m\u001b[1;33m)\u001b[0m\u001b[1;33m\u001b[0m\u001b[0m\n\u001b[0;32m      3\u001b[0m \u001b[1;32mfor\u001b[0m \u001b[0mi\u001b[0m \u001b[1;32min\u001b[0m \u001b[0mrange\u001b[0m\u001b[1;33m(\u001b[0m\u001b[0mdatalen\u001b[0m\u001b[1;33m)\u001b[0m\u001b[1;33m:\u001b[0m\u001b[1;33m\u001b[0m\u001b[0m\n\u001b[1;32m----> 4\u001b[1;33m     \u001b[1;33m(\u001b[0m\u001b[0mar\u001b[0m\u001b[1;33m,\u001b[0m\u001b[0mbr\u001b[0m\u001b[1;33m)\u001b[0m\u001b[1;33m=\u001b[0m\u001b[0mpolyfit\u001b[0m\u001b[1;33m(\u001b[0m\u001b[0meorfreq\u001b[0m\u001b[1;33m,\u001b[0m\u001b[0mlog\u001b[0m\u001b[1;33m(\u001b[0m\u001b[1;36m0.\u001b[0m\u001b[1;33m-\u001b[0m\u001b[0mdspec\u001b[0m\u001b[1;33m[\u001b[0m\u001b[1;33m:\u001b[0m\u001b[1;33m,\u001b[0m\u001b[0mi\u001b[0m\u001b[1;33m]\u001b[0m\u001b[1;33m)\u001b[0m\u001b[1;33m,\u001b[0m\u001b[1;36m1\u001b[0m\u001b[1;33m)\u001b[0m\u001b[1;33m\u001b[0m\u001b[0m\n\u001b[0m\u001b[0;32m      5\u001b[0m     \u001b[0mdpowlawmodel\u001b[0m\u001b[1;33m[\u001b[0m\u001b[1;33m:\u001b[0m\u001b[1;33m,\u001b[0m\u001b[0mi\u001b[0m\u001b[1;33m]\u001b[0m\u001b[1;33m=\u001b[0m\u001b[1;36m0.\u001b[0m\u001b[1;33m-\u001b[0m\u001b[0me\u001b[0m\u001b[1;33m**\u001b[0m\u001b[0mpolyval\u001b[0m\u001b[1;33m(\u001b[0m\u001b[1;33m[\u001b[0m\u001b[0mar\u001b[0m\u001b[1;33m,\u001b[0m\u001b[0mbr\u001b[0m\u001b[1;33m]\u001b[0m\u001b[1;33m,\u001b[0m\u001b[0meorfreq\u001b[0m\u001b[1;33m)\u001b[0m\u001b[1;33m\u001b[0m\u001b[0m\n",
        "\u001b[1;31mNameError\u001b[0m: name 'polyfit' is not defined"
       ]
      }
     ],
     "prompt_number": 26
    },
    {
     "cell_type": "code",
     "collapsed": false,
     "input": [],
     "language": "python",
     "metadata": {},
     "outputs": [],
     "prompt_number": 26
    },
    {
     "cell_type": "code",
     "collapsed": false,
     "input": [
      "#ff=open('jnk.pkl','wb')\n",
      "#cPickle.dump(a,ff)\n",
      "#ff.close()\n",
      "#g=open('jnk.pkl','rb')\n",
      "#b=cPickle.load(g)\n",
      "#g.close()"
     ],
     "language": "python",
     "metadata": {},
     "outputs": [],
     "prompt_number": 27
    },
    {
     "cell_type": "code",
     "collapsed": false,
     "input": [],
     "language": "python",
     "metadata": {},
     "outputs": []
    }
   ],
   "metadata": {}
  }
 ]
}